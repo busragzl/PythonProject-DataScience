{
 "cells": [
  {
   "cell_type": "code",
   "execution_count": 1,
   "id": "ed169e71-eb25-484d-af6a-967bdea79b0d",
   "metadata": {},
   "outputs": [],
   "source": [
    "import numpy as np"
   ]
  },
  {
   "cell_type": "code",
   "execution_count": 2,
   "id": "17000bd4-b12a-41b4-804f-a0ba2b5f228d",
   "metadata": {},
   "outputs": [],
   "source": [
    "#!pip install numpy"
   ]
  },
  {
   "cell_type": "code",
   "execution_count": 3,
   "id": "b8221bf2-e5f0-4974-989a-172bd4e9c008",
   "metadata": {},
   "outputs": [],
   "source": [
    "# https://jalamar.github.io/visual-numpy/"
   ]
  },
  {
   "cell_type": "code",
   "execution_count": 4,
   "id": "d684a811-570a-4cc6-8e0f-a878149f0d2a",
   "metadata": {},
   "outputs": [],
   "source": [
    "my_list = [10,20,30,40]"
   ]
  },
  {
   "cell_type": "code",
   "execution_count": 5,
   "id": "076758aa-3f34-4794-8310-8fdac2f1e4f4",
   "metadata": {},
   "outputs": [
    {
     "data": {
      "text/plain": [
       "list"
      ]
     },
     "execution_count": 5,
     "metadata": {},
     "output_type": "execute_result"
    }
   ],
   "source": [
    "type(my_list)"
   ]
  },
  {
   "cell_type": "code",
   "execution_count": 6,
   "id": "03a6e9ad-aa67-4258-a268-fb1152babe65",
   "metadata": {},
   "outputs": [
    {
     "data": {
      "text/plain": [
       "array([10, 20, 30, 40])"
      ]
     },
     "execution_count": 6,
     "metadata": {},
     "output_type": "execute_result"
    }
   ],
   "source": [
    "np.array(my_list)"
   ]
  },
  {
   "cell_type": "code",
   "execution_count": 7,
   "id": "975c49ee-cffd-459d-8645-2fa621401e28",
   "metadata": {},
   "outputs": [],
   "source": [
    "my_numpy_array = np.array(my_list)"
   ]
  },
  {
   "cell_type": "code",
   "execution_count": 12,
   "id": "50e60ce0-af0e-4166-ac5c-e8e84e9a016b",
   "metadata": {},
   "outputs": [
    {
     "data": {
      "text/plain": [
       "numpy.ndarray"
      ]
     },
     "execution_count": 12,
     "metadata": {},
     "output_type": "execute_result"
    }
   ],
   "source": [
    "type(my_numpy_array)"
   ]
  },
  {
   "cell_type": "code",
   "execution_count": 13,
   "id": "22b176b8-54c5-4def-a903-661ea91dba4f",
   "metadata": {},
   "outputs": [
    {
     "data": {
      "text/plain": [
       "np.int64(40)"
      ]
     },
     "execution_count": 13,
     "metadata": {},
     "output_type": "execute_result"
    }
   ],
   "source": [
    "my_numpy_array.max()"
   ]
  },
  {
   "cell_type": "code",
   "execution_count": 14,
   "id": "d95d138a-445d-4ca3-a08e-adb9dc0ab0d7",
   "metadata": {},
   "outputs": [
    {
     "data": {
      "text/plain": [
       "array([1., 1., 1., 1., 1.])"
      ]
     },
     "execution_count": 14,
     "metadata": {},
     "output_type": "execute_result"
    }
   ],
   "source": [
    "np.ones(5)"
   ]
  },
  {
   "cell_type": "code",
   "execution_count": 15,
   "id": "9abfffff-ee33-4cfc-8532-7b7ae6555594",
   "metadata": {},
   "outputs": [
    {
     "data": {
      "text/plain": [
       "array([0., 0., 0., 0., 0.])"
      ]
     },
     "execution_count": 15,
     "metadata": {},
     "output_type": "execute_result"
    }
   ],
   "source": [
    "np.zeros(5)"
   ]
  },
  {
   "cell_type": "code",
   "execution_count": 16,
   "id": "52c27636-3bbb-402c-8463-9c7c55aa42d7",
   "metadata": {},
   "outputs": [
    {
     "data": {
      "text/plain": [
       "array([0.77677495, 0.10122024, 0.96884779, 0.64951687, 0.67512201])"
      ]
     },
     "execution_count": 16,
     "metadata": {},
     "output_type": "execute_result"
    }
   ],
   "source": [
    "np.random.random(5)"
   ]
  },
  {
   "cell_type": "code",
   "execution_count": 17,
   "id": "2897c968-dffd-486a-988c-2256903d65cc",
   "metadata": {},
   "outputs": [],
   "source": [
    "# Array Arithmatic"
   ]
  },
  {
   "cell_type": "code",
   "execution_count": 20,
   "id": "eb254f02-0605-4943-8de0-c1aa5183aa50",
   "metadata": {},
   "outputs": [],
   "source": [
    "my_list1 = [1,2]\n",
    "my_list2= [2,3]"
   ]
  },
  {
   "cell_type": "code",
   "execution_count": 21,
   "id": "613b9654-8513-46ce-a989-8e3cf8ded90e",
   "metadata": {},
   "outputs": [
    {
     "data": {
      "text/plain": [
       "[1, 2, 2, 3]"
      ]
     },
     "execution_count": 21,
     "metadata": {},
     "output_type": "execute_result"
    }
   ],
   "source": [
    "my_list1 + my_list2"
   ]
  },
  {
   "cell_type": "code",
   "execution_count": 22,
   "id": "10153163-34dd-4fa6-9f7f-91496d32e0f5",
   "metadata": {},
   "outputs": [],
   "source": [
    "my_numpy_array1 = np.array(my_list1)"
   ]
  },
  {
   "cell_type": "code",
   "execution_count": 23,
   "id": "bebeba30-5c74-46f4-9513-68bd60827401",
   "metadata": {},
   "outputs": [],
   "source": [
    "my_numpy_array2 = np.array(my_list2)"
   ]
  },
  {
   "cell_type": "code",
   "execution_count": 24,
   "id": "ea47c2eb-42cc-4721-aae8-a43d721c82e6",
   "metadata": {},
   "outputs": [
    {
     "data": {
      "text/plain": [
       "array([3, 5])"
      ]
     },
     "execution_count": 24,
     "metadata": {},
     "output_type": "execute_result"
    }
   ],
   "source": [
    "my_numpy_array1 + my_numpy_array2"
   ]
  },
  {
   "cell_type": "code",
   "execution_count": 25,
   "id": "b049817e-bfce-42d6-95c4-21fa97e89219",
   "metadata": {},
   "outputs": [
    {
     "data": {
      "text/plain": [
       "array([2, 6])"
      ]
     },
     "execution_count": 25,
     "metadata": {},
     "output_type": "execute_result"
    }
   ],
   "source": [
    "my_numpy_array1 * my_numpy_array2"
   ]
  },
  {
   "cell_type": "code",
   "execution_count": 26,
   "id": "389cf5f4-7eaa-470f-a12b-1ad877697b80",
   "metadata": {},
   "outputs": [
    {
     "data": {
      "text/plain": [
       "array([-1, -1])"
      ]
     },
     "execution_count": 26,
     "metadata": {},
     "output_type": "execute_result"
    }
   ],
   "source": [
    "my_numpy_array1 - my_numpy_array2"
   ]
  },
  {
   "cell_type": "code",
   "execution_count": 27,
   "id": "f8c31ec7-4395-474e-8eff-bf7b59e0f342",
   "metadata": {},
   "outputs": [
    {
     "data": {
      "text/plain": [
       "array([0.5       , 0.66666667])"
      ]
     },
     "execution_count": 27,
     "metadata": {},
     "output_type": "execute_result"
    }
   ],
   "source": [
    "my_numpy_array1 / my_numpy_array2"
   ]
  },
  {
   "cell_type": "code",
   "execution_count": 28,
   "id": "73ef2bd8-2db3-488d-9923-29c67ab7042d",
   "metadata": {},
   "outputs": [
    {
     "data": {
      "text/plain": [
       "array([ 5, 10])"
      ]
     },
     "execution_count": 28,
     "metadata": {},
     "output_type": "execute_result"
    }
   ],
   "source": [
    "my_numpy_array1 * 5"
   ]
  },
  {
   "cell_type": "code",
   "execution_count": 29,
   "id": "800b3ff2-33a9-4f0a-b350-dae1c7a44a68",
   "metadata": {},
   "outputs": [
    {
     "data": {
      "text/plain": [
       "[1, 2, 1, 2, 1, 2, 1, 2, 1, 2]"
      ]
     },
     "execution_count": 29,
     "metadata": {},
     "output_type": "execute_result"
    }
   ],
   "source": [
    "my_list1 * 5"
   ]
  },
  {
   "cell_type": "code",
   "execution_count": 30,
   "id": "f4ddaee3-9fdf-445a-a26c-202f2d5fc0ca",
   "metadata": {},
   "outputs": [],
   "source": [
    "other_array = np.array([10,20,30,40,50])"
   ]
  },
  {
   "cell_type": "code",
   "execution_count": 31,
   "id": "8baa5662-4d0a-40f8-bd3b-c28af6db3d4e",
   "metadata": {},
   "outputs": [
    {
     "data": {
      "text/plain": [
       "np.int64(10)"
      ]
     },
     "execution_count": 31,
     "metadata": {},
     "output_type": "execute_result"
    }
   ],
   "source": [
    "other_array.min()"
   ]
  },
  {
   "cell_type": "code",
   "execution_count": 32,
   "id": "697a8097-02bf-4a91-8905-7c7d3034cd2d",
   "metadata": {},
   "outputs": [
    {
     "data": {
      "text/plain": [
       "np.int64(150)"
      ]
     },
     "execution_count": 32,
     "metadata": {},
     "output_type": "execute_result"
    }
   ],
   "source": [
    "other_array.sum()"
   ]
  },
  {
   "cell_type": "code",
   "execution_count": 33,
   "id": "8039265d-cf1c-439f-a508-f841196682bf",
   "metadata": {},
   "outputs": [
    {
     "data": {
      "text/plain": [
       "array([10, 20, 30, 40, 50])"
      ]
     },
     "execution_count": 33,
     "metadata": {},
     "output_type": "execute_result"
    }
   ],
   "source": [
    "other_array"
   ]
  },
  {
   "cell_type": "code",
   "execution_count": 36,
   "id": "0de152fb-6e1e-4218-9cad-b583c33216e9",
   "metadata": {},
   "outputs": [],
   "source": [
    "#other_array + my_numpy_array # Eleman sayıları farklı olmaz # broadcasting rules "
   ]
  },
  {
   "cell_type": "code",
   "execution_count": 37,
   "id": "955c52a1-0b62-45d3-935a-94a664681cbe",
   "metadata": {},
   "outputs": [],
   "source": [
    "# arange & indexing"
   ]
  },
  {
   "cell_type": "code",
   "execution_count": 38,
   "id": "358e1ce5-d4ca-4db9-a760-51a2259728f8",
   "metadata": {},
   "outputs": [
    {
     "data": {
      "text/plain": [
       "[0, 1, 2, 3, 4, 5, 6, 7, 8, 9]"
      ]
     },
     "execution_count": 38,
     "metadata": {},
     "output_type": "execute_result"
    }
   ],
   "source": [
    "list(range(0,10))"
   ]
  },
  {
   "cell_type": "code",
   "execution_count": 39,
   "id": "2ab82c3c-1bf1-4e7c-9c9e-6a8a36741b48",
   "metadata": {},
   "outputs": [
    {
     "data": {
      "text/plain": [
       "array([1, 2, 3, 4, 5, 6, 7, 8, 9])"
      ]
     },
     "execution_count": 39,
     "metadata": {},
     "output_type": "execute_result"
    }
   ],
   "source": [
    "np.arange(1,10)"
   ]
  },
  {
   "cell_type": "code",
   "execution_count": 40,
   "id": "c55e9e3f-71a6-4572-bb8e-d8e09e4e95a2",
   "metadata": {},
   "outputs": [
    {
     "data": {
      "text/plain": [
       "array([ 0,  2,  4,  6,  8, 10, 12, 14, 16, 18])"
      ]
     },
     "execution_count": 40,
     "metadata": {},
     "output_type": "execute_result"
    }
   ],
   "source": [
    "np.arange(0,20,2)"
   ]
  },
  {
   "cell_type": "code",
   "execution_count": 41,
   "id": "16df751e-63e7-4ddb-8a8c-6690f8b0e2d4",
   "metadata": {},
   "outputs": [],
   "source": [
    "np_array = np.arange(0,10)"
   ]
  },
  {
   "cell_type": "code",
   "execution_count": 42,
   "id": "1f80b3b1-3639-4882-ae54-c047628bddd6",
   "metadata": {},
   "outputs": [
    {
     "data": {
      "text/plain": [
       "np.int64(0)"
      ]
     },
     "execution_count": 42,
     "metadata": {},
     "output_type": "execute_result"
    }
   ],
   "source": [
    "np_array[0]"
   ]
  },
  {
   "cell_type": "code",
   "execution_count": 44,
   "id": "b22afe7d-7922-4f5b-82b9-506090fb4365",
   "metadata": {},
   "outputs": [
    {
     "data": {
      "text/plain": [
       "np.int64(9)"
      ]
     },
     "execution_count": 44,
     "metadata": {},
     "output_type": "execute_result"
    }
   ],
   "source": [
    "np_array[-1]"
   ]
  },
  {
   "cell_type": "code",
   "execution_count": 45,
   "id": "034d8945-fbcd-4b23-8de5-c50090d38f63",
   "metadata": {},
   "outputs": [
    {
     "data": {
      "text/plain": [
       "array([1, 2, 3])"
      ]
     },
     "execution_count": 45,
     "metadata": {},
     "output_type": "execute_result"
    }
   ],
   "source": [
    "np_array[1:4]"
   ]
  },
  {
   "cell_type": "code",
   "execution_count": 46,
   "id": "a0f5ef6e-efd8-4710-8754-b1398a79bf30",
   "metadata": {},
   "outputs": [
    {
     "data": {
      "text/plain": [
       "array([9, 8, 7, 6, 5, 4, 3, 2, 1, 0])"
      ]
     },
     "execution_count": 46,
     "metadata": {},
     "output_type": "execute_result"
    }
   ],
   "source": [
    "np_array[::-1]"
   ]
  },
  {
   "cell_type": "code",
   "execution_count": 47,
   "id": "f98f8052-ab51-48a0-a924-848821a214e8",
   "metadata": {},
   "outputs": [
    {
     "data": {
      "text/plain": [
       "array([2, 4])"
      ]
     },
     "execution_count": 47,
     "metadata": {},
     "output_type": "execute_result"
    }
   ],
   "source": [
    "np_array[2:6:2]"
   ]
  },
  {
   "cell_type": "code",
   "execution_count": 48,
   "id": "04b5ef30-17cf-44d7-96a6-1d1f02d31b8e",
   "metadata": {},
   "outputs": [],
   "source": [
    "#random"
   ]
  },
  {
   "cell_type": "code",
   "execution_count": 49,
   "id": "29933ff2-9875-440a-a1dc-9a11dae7bd1c",
   "metadata": {},
   "outputs": [
    {
     "data": {
      "text/plain": [
       "array([0.56405972, 0.22100965, 0.7217307 , 0.97063681])"
      ]
     },
     "execution_count": 49,
     "metadata": {},
     "output_type": "execute_result"
    }
   ],
   "source": [
    "np.random.random(4)"
   ]
  },
  {
   "cell_type": "code",
   "execution_count": 51,
   "id": "f2535673-daa8-4c25-b6f9-94147bbeb10b",
   "metadata": {},
   "outputs": [
    {
     "data": {
      "text/plain": [
       "array([[ 0.64132949,  0.26115908, -0.50085654,  0.03099852],\n",
       "       [-0.37312853,  0.48626207,  1.31320577, -0.96857881],\n",
       "       [-1.4607913 , -0.52503932, -0.06305599,  0.79815326],\n",
       "       [-0.7651643 ,  1.1913246 ,  1.80676366, -0.33377375]])"
      ]
     },
     "execution_count": 51,
     "metadata": {},
     "output_type": "execute_result"
    }
   ],
   "source": [
    "np.random.randn(4,4)"
   ]
  },
  {
   "cell_type": "code",
   "execution_count": 53,
   "id": "5acb245a-b79b-4c51-945e-cef51e7f508c",
   "metadata": {},
   "outputs": [
    {
     "data": {
      "text/plain": [
       "array([281,  53,  58, 217, 102])"
      ]
     },
     "execution_count": 53,
     "metadata": {},
     "output_type": "execute_result"
    }
   ],
   "source": [
    "np.random.randint(1,300,5)"
   ]
  },
  {
   "cell_type": "code",
   "execution_count": 59,
   "id": "71456919-390b-4da9-b35f-b4f0b795c899",
   "metadata": {},
   "outputs": [
    {
     "data": {
      "text/plain": [
       "np.float64(1.4142135623730951)"
      ]
     },
     "execution_count": 59,
     "metadata": {},
     "output_type": "execute_result"
    }
   ],
   "source": [
    "np.sqrt(2)"
   ]
  },
  {
   "cell_type": "code",
   "execution_count": null,
   "id": "febab6bc-c26b-46d1-94a2-2b0471564c12",
   "metadata": {},
   "outputs": [],
   "source": []
  }
 ],
 "metadata": {
  "kernelspec": {
   "display_name": "Python [conda env:base] *",
   "language": "python",
   "name": "conda-base-py"
  },
  "language_info": {
   "codemirror_mode": {
    "name": "ipython",
    "version": 3
   },
   "file_extension": ".py",
   "mimetype": "text/x-python",
   "name": "python",
   "nbconvert_exporter": "python",
   "pygments_lexer": "ipython3",
   "version": "3.13.5"
  }
 },
 "nbformat": 4,
 "nbformat_minor": 5
}
