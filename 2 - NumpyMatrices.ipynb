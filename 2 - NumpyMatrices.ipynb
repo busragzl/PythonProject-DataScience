{
 "cells": [
  {
   "cell_type": "code",
   "execution_count": 1,
   "id": "1c703c5a-0248-4387-a897-e4e6526ce520",
   "metadata": {},
   "outputs": [],
   "source": [
    "import numpy as np"
   ]
  },
  {
   "cell_type": "code",
   "execution_count": 2,
   "id": "7c9676ec-c8bd-476e-bf3f-4bd14550e94c",
   "metadata": {},
   "outputs": [],
   "source": [
    "my_matrix = [[5,10],[15,20]]"
   ]
  },
  {
   "cell_type": "code",
   "execution_count": 4,
   "id": "574d4093-2dc7-40d7-a6b5-97a121619884",
   "metadata": {},
   "outputs": [
    {
     "data": {
      "text/plain": [
       "[5, 10]"
      ]
     },
     "execution_count": 4,
     "metadata": {},
     "output_type": "execute_result"
    }
   ],
   "source": [
    "my_matrix[0]"
   ]
  },
  {
   "cell_type": "code",
   "execution_count": 5,
   "id": "ac19f40a-5fc9-4bb9-abf8-e780bd8b35d2",
   "metadata": {},
   "outputs": [
    {
     "data": {
      "text/plain": [
       "10"
      ]
     },
     "execution_count": 5,
     "metadata": {},
     "output_type": "execute_result"
    }
   ],
   "source": [
    "my_matrix[0][1]"
   ]
  },
  {
   "cell_type": "code",
   "execution_count": 7,
   "id": "11314aa2-9bb8-4262-8928-7ea4e3c2b9e0",
   "metadata": {},
   "outputs": [],
   "source": [
    "# row * column"
   ]
  },
  {
   "cell_type": "code",
   "execution_count": 12,
   "id": "77b08928-fb5d-4dce-8103-6fa38d58d3e2",
   "metadata": {},
   "outputs": [],
   "source": [
    "numpy_matrix = np.array([[5,10],[15,20]])"
   ]
  },
  {
   "cell_type": "code",
   "execution_count": 13,
   "id": "1ffa2cf4-8599-4c33-9fc0-8a0dcf4249dd",
   "metadata": {},
   "outputs": [
    {
     "data": {
      "text/plain": [
       "array([[ 5, 10],\n",
       "       [15, 20]])"
      ]
     },
     "execution_count": 13,
     "metadata": {},
     "output_type": "execute_result"
    }
   ],
   "source": [
    "numpy_matrix"
   ]
  },
  {
   "cell_type": "code",
   "execution_count": 14,
   "id": "9b095144-0417-4f71-be36-021cdffda2f7",
   "metadata": {},
   "outputs": [
    {
     "data": {
      "text/plain": [
       "np.int64(15)"
      ]
     },
     "execution_count": 14,
     "metadata": {},
     "output_type": "execute_result"
    }
   ],
   "source": [
    "numpy_matrix[1][0]"
   ]
  },
  {
   "cell_type": "code",
   "execution_count": 15,
   "id": "67910feb-8d9a-41d2-927f-6061c7a8427f",
   "metadata": {},
   "outputs": [
    {
     "data": {
      "text/plain": [
       "np.int64(50)"
      ]
     },
     "execution_count": 15,
     "metadata": {},
     "output_type": "execute_result"
    }
   ],
   "source": [
    "numpy_matrix.sum()"
   ]
  },
  {
   "cell_type": "code",
   "execution_count": 19,
   "id": "62ac6127-57eb-4ff8-aab6-e2cee81f9577",
   "metadata": {},
   "outputs": [
    {
     "data": {
      "text/plain": [
       "array([[1., 1.],\n",
       "       [1., 1.],\n",
       "       [1., 1.],\n",
       "       [1., 1.]])"
      ]
     },
     "execution_count": 19,
     "metadata": {},
     "output_type": "execute_result"
    }
   ],
   "source": [
    "np.ones((4,2)) #column , row"
   ]
  },
  {
   "cell_type": "code",
   "execution_count": 20,
   "id": "9e3b8659-77bf-485f-b7d6-b8ab426c2009",
   "metadata": {},
   "outputs": [
    {
     "data": {
      "text/plain": [
       "array([1., 1., 1., 1.])"
      ]
     },
     "execution_count": 20,
     "metadata": {},
     "output_type": "execute_result"
    }
   ],
   "source": [
    "np.ones((4))"
   ]
  },
  {
   "cell_type": "code",
   "execution_count": 21,
   "id": "a7907507-9a09-4615-b1e1-772fde295a6d",
   "metadata": {},
   "outputs": [],
   "source": [
    "#matrix arithmetic "
   ]
  },
  {
   "cell_type": "code",
   "execution_count": 23,
   "id": "580fe87f-96c6-4d01-8c8d-d0ae32cc7ee7",
   "metadata": {},
   "outputs": [],
   "source": [
    "first_array = np.array([[10,20],[30,40]])\n",
    "second_array = np.array([[5,15],[25,35]])"
   ]
  },
  {
   "cell_type": "code",
   "execution_count": 24,
   "id": "dc1c4314-d7a2-4f9e-93cd-16b18e56e49a",
   "metadata": {},
   "outputs": [
    {
     "data": {
      "text/plain": [
       "array([[15, 35],\n",
       "       [55, 75]])"
      ]
     },
     "execution_count": 24,
     "metadata": {},
     "output_type": "execute_result"
    }
   ],
   "source": [
    "first_array + second_array"
   ]
  },
  {
   "cell_type": "code",
   "execution_count": 25,
   "id": "c3e5caa5-490d-47fd-bb28-6e106b4c68e5",
   "metadata": {},
   "outputs": [
    {
     "data": {
      "text/plain": [
       "array([[10, 20],\n",
       "       [30, 40]])"
      ]
     },
     "execution_count": 25,
     "metadata": {},
     "output_type": "execute_result"
    }
   ],
   "source": [
    "first_array"
   ]
  },
  {
   "cell_type": "code",
   "execution_count": 26,
   "id": "0a7f7dcc-2219-4b1e-a653-ebc19a199c67",
   "metadata": {},
   "outputs": [
    {
     "data": {
      "text/plain": [
       "array([[ 5, 15],\n",
       "       [25, 35]])"
      ]
     },
     "execution_count": 26,
     "metadata": {},
     "output_type": "execute_result"
    }
   ],
   "source": [
    "second_array"
   ]
  },
  {
   "cell_type": "code",
   "execution_count": 27,
   "id": "787359b5-bbc0-40cd-8e0f-d6f605aa3add",
   "metadata": {},
   "outputs": [],
   "source": [
    "third_array = np.array([[50,60]])"
   ]
  },
  {
   "cell_type": "code",
   "execution_count": 28,
   "id": "76e31e58-a6bc-4786-808d-d7c00bfdb2cc",
   "metadata": {},
   "outputs": [
    {
     "data": {
      "text/plain": [
       "array([[ 60,  80],\n",
       "       [ 80, 100]])"
      ]
     },
     "execution_count": 28,
     "metadata": {},
     "output_type": "execute_result"
    }
   ],
   "source": [
    "first_array + third_array"
   ]
  },
  {
   "cell_type": "code",
   "execution_count": 41,
   "id": "d858c5c0-dd63-4f76-a6fb-11c851fb5e2b",
   "metadata": {},
   "outputs": [],
   "source": [
    "fourth_array = np.array([[10,20,30,40,50]])"
   ]
  },
  {
   "cell_type": "code",
   "execution_count": 42,
   "id": "2ee8c490-b5cd-4a10-a028-87312d64c73e",
   "metadata": {},
   "outputs": [
    {
     "ename": "ValueError",
     "evalue": "operands could not be broadcast together with shapes (2,2) (1,5) ",
     "output_type": "error",
     "traceback": [
      "\u001b[0;31m---------------------------------------------------------------------------\u001b[0m",
      "\u001b[0;31mValueError\u001b[0m                                Traceback (most recent call last)",
      "Cell \u001b[0;32mIn[42], line 1\u001b[0m\n\u001b[0;32m----> 1\u001b[0m first_array\u001b[38;5;241m+\u001b[39m fourth_array\n",
      "\u001b[0;31mValueError\u001b[0m: operands could not be broadcast together with shapes (2,2) (1,5) "
     ]
    }
   ],
   "source": [
    "first_array+ fourth_array"
   ]
  },
  {
   "cell_type": "code",
   "execution_count": 31,
   "id": "a3a26beb-56c1-4a8f-b59d-5dbc6f416569",
   "metadata": {},
   "outputs": [
    {
     "data": {
      "text/plain": [
       "array([[ 5., 10.],\n",
       "       [15., 20.]])"
      ]
     },
     "execution_count": 31,
     "metadata": {},
     "output_type": "execute_result"
    }
   ],
   "source": [
    "first_array / 2"
   ]
  },
  {
   "cell_type": "code",
   "execution_count": 32,
   "id": "71bdb348-7cc0-48df-a3cc-bd2ccae399c8",
   "metadata": {},
   "outputs": [
    {
     "data": {
      "text/plain": [
       "array([[ 2.5,  5. ],\n",
       "       [ 7.5, 10. ]])"
      ]
     },
     "execution_count": 32,
     "metadata": {},
     "output_type": "execute_result"
    }
   ],
   "source": [
    "first_array / 4"
   ]
  },
  {
   "cell_type": "code",
   "execution_count": 33,
   "id": "26200cec-89c0-48a0-a9e2-594eca631415",
   "metadata": {},
   "outputs": [
    {
     "data": {
      "text/plain": [
       "(1, 2)"
      ]
     },
     "execution_count": 33,
     "metadata": {},
     "output_type": "execute_result"
    }
   ],
   "source": [
    "third_array.shape"
   ]
  },
  {
   "cell_type": "code",
   "execution_count": 34,
   "id": "0f900c4a-e861-4966-9c5a-3f768b09c3a9",
   "metadata": {},
   "outputs": [],
   "source": [
    "#matrix multiplication"
   ]
  },
  {
   "cell_type": "code",
   "execution_count": 35,
   "id": "4905e44c-2411-427b-b6c3-e5c4107f470c",
   "metadata": {},
   "outputs": [
    {
     "data": {
      "text/plain": [
       "array([[  50,  300],\n",
       "       [ 750, 1400]])"
      ]
     },
     "execution_count": 35,
     "metadata": {},
     "output_type": "execute_result"
    }
   ],
   "source": [
    "first_array * second_array"
   ]
  },
  {
   "cell_type": "code",
   "execution_count": 36,
   "id": "4de54326-1929-4071-88ca-085a81142eb0",
   "metadata": {},
   "outputs": [],
   "source": [
    "# dot product"
   ]
  },
  {
   "cell_type": "code",
   "execution_count": 39,
   "id": "23e6b9ed-b3b1-45bf-a8b3-fc1c14303c54",
   "metadata": {},
   "outputs": [],
   "source": [
    "first_matrix = np.array([[10,20,30]])"
   ]
  },
  {
   "cell_type": "code",
   "execution_count": 40,
   "id": "374e8f96-d02f-4df1-aa4c-36971799b3b4",
   "metadata": {},
   "outputs": [
    {
     "data": {
      "text/plain": [
       "(1, 3)"
      ]
     },
     "execution_count": 40,
     "metadata": {},
     "output_type": "execute_result"
    }
   ],
   "source": [
    "first_matrix.shape"
   ]
  },
  {
   "cell_type": "code",
   "execution_count": 43,
   "id": "0626a070-9506-4c68-aa22-4ba38959fc46",
   "metadata": {},
   "outputs": [],
   "source": [
    "second_matrix = np.array([[2,3],[2,3],[2,3]])"
   ]
  },
  {
   "cell_type": "code",
   "execution_count": 44,
   "id": "baa834ce-5697-4540-b97e-9e376027391e",
   "metadata": {},
   "outputs": [
    {
     "data": {
      "text/plain": [
       "(3, 2)"
      ]
     },
     "execution_count": 44,
     "metadata": {},
     "output_type": "execute_result"
    }
   ],
   "source": [
    "second_matrix.shape"
   ]
  },
  {
   "cell_type": "code",
   "execution_count": 45,
   "id": "1bc30ba6-37fb-4434-b6a0-6ab5447d1ad6",
   "metadata": {},
   "outputs": [],
   "source": [
    "result_matrix = first_matrix.dot(second_matrix)"
   ]
  },
  {
   "cell_type": "code",
   "execution_count": 46,
   "id": "bb60b94b-803d-41b9-b38e-09bc77a28f25",
   "metadata": {},
   "outputs": [
    {
     "data": {
      "text/plain": [
       "array([[120, 180]])"
      ]
     },
     "execution_count": 46,
     "metadata": {},
     "output_type": "execute_result"
    }
   ],
   "source": [
    "result_matrix"
   ]
  },
  {
   "cell_type": "code",
   "execution_count": 47,
   "id": "31480a80-48fd-4c31-a449-06864c585a1e",
   "metadata": {},
   "outputs": [
    {
     "data": {
      "text/plain": [
       "(1, 2)"
      ]
     },
     "execution_count": 47,
     "metadata": {},
     "output_type": "execute_result"
    }
   ],
   "source": [
    "result_matrix.shape"
   ]
  },
  {
   "cell_type": "code",
   "execution_count": null,
   "id": "5695a899-bd03-4674-ba53-26e035aca9ba",
   "metadata": {},
   "outputs": [],
   "source": []
  }
 ],
 "metadata": {
  "kernelspec": {
   "display_name": "Python [conda env:base] *",
   "language": "python",
   "name": "conda-base-py"
  },
  "language_info": {
   "codemirror_mode": {
    "name": "ipython",
    "version": 3
   },
   "file_extension": ".py",
   "mimetype": "text/x-python",
   "name": "python",
   "nbconvert_exporter": "python",
   "pygments_lexer": "ipython3",
   "version": "3.13.5"
  }
 },
 "nbformat": 4,
 "nbformat_minor": 5
}
