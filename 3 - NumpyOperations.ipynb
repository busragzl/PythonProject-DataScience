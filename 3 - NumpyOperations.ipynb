{
 "cells": [
  {
   "cell_type": "code",
   "execution_count": 1,
   "id": "51550e08-39ea-4544-849e-fc27ef54991f",
   "metadata": {},
   "outputs": [],
   "source": [
    "import numpy as np"
   ]
  },
  {
   "cell_type": "code",
   "execution_count": 3,
   "id": "c8f618cf-2166-452d-ba8d-b5c3cf02a530",
   "metadata": {},
   "outputs": [],
   "source": [
    "new_array = np.random.randint(1,100,20)"
   ]
  },
  {
   "cell_type": "code",
   "execution_count": 4,
   "id": "eb0da130-19c1-4a59-8634-8605fba87dc8",
   "metadata": {},
   "outputs": [
    {
     "data": {
      "text/plain": [
       "array([ 2, 90, 80, 52, 12, 19, 36, 66, 12, 87, 97, 54, 53, 48, 56, 38, 88,\n",
       "       39, 90, 77])"
      ]
     },
     "execution_count": 4,
     "metadata": {},
     "output_type": "execute_result"
    }
   ],
   "source": [
    "new_array"
   ]
  },
  {
   "cell_type": "code",
   "execution_count": 5,
   "id": "210e2682-6785-4c3a-9e5b-7619bfd26a0c",
   "metadata": {},
   "outputs": [
    {
     "data": {
      "text/plain": [
       "array([False,  True,  True,  True, False, False,  True,  True, False,\n",
       "        True,  True,  True,  True,  True,  True,  True,  True,  True,\n",
       "        True,  True])"
      ]
     },
     "execution_count": 5,
     "metadata": {},
     "output_type": "execute_result"
    }
   ],
   "source": [
    "new_array > 25"
   ]
  },
  {
   "cell_type": "code",
   "execution_count": 7,
   "id": "d9a6f973-bd6c-431c-92c3-d58bbb1973dd",
   "metadata": {},
   "outputs": [
    {
     "data": {
      "text/plain": [
       "array([90, 80, 52, 36, 66, 87, 97, 54, 53, 48, 56, 38, 88, 39, 90, 77])"
      ]
     },
     "execution_count": 7,
     "metadata": {},
     "output_type": "execute_result"
    }
   ],
   "source": [
    "new_array[new_array > 25]"
   ]
  },
  {
   "cell_type": "code",
   "execution_count": 8,
   "id": "7c06b78e-640d-41ee-bf46-fd0ff6ca06ce",
   "metadata": {},
   "outputs": [
    {
     "data": {
      "text/plain": [
       "array([ 2, 12, 19, 12])"
      ]
     },
     "execution_count": 8,
     "metadata": {},
     "output_type": "execute_result"
    }
   ],
   "source": [
    "new_array[new_array < 25]"
   ]
  },
  {
   "cell_type": "code",
   "execution_count": 9,
   "id": "9ed092f2-4be6-473d-896f-e9d9b71a770c",
   "metadata": {},
   "outputs": [],
   "source": [
    "# transpose & reshape"
   ]
  },
  {
   "cell_type": "code",
   "execution_count": 10,
   "id": "2ba16399-2519-4fbe-883e-73353ff80013",
   "metadata": {},
   "outputs": [],
   "source": [
    "matrix_array = np.array ([[10,20],[20,30],[30,40]])"
   ]
  },
  {
   "cell_type": "code",
   "execution_count": 11,
   "id": "7c3825b5-a336-46ab-9045-16e41448b864",
   "metadata": {},
   "outputs": [
    {
     "data": {
      "text/plain": [
       "array([[10, 20],\n",
       "       [20, 30],\n",
       "       [30, 40]])"
      ]
     },
     "execution_count": 11,
     "metadata": {},
     "output_type": "execute_result"
    }
   ],
   "source": [
    "matrix_array"
   ]
  },
  {
   "cell_type": "code",
   "execution_count": 12,
   "id": "d69a0b00-67ee-4931-803e-ca561e6bc50e",
   "metadata": {},
   "outputs": [
    {
     "data": {
      "text/plain": [
       "(3, 2)"
      ]
     },
     "execution_count": 12,
     "metadata": {},
     "output_type": "execute_result"
    }
   ],
   "source": [
    "matrix_array.shape"
   ]
  },
  {
   "cell_type": "code",
   "execution_count": 13,
   "id": "9ab73c6c-6392-4647-9653-0aec1c0ba2fb",
   "metadata": {},
   "outputs": [
    {
     "data": {
      "text/plain": [
       "array([[10, 20, 30],\n",
       "       [20, 30, 40]])"
      ]
     },
     "execution_count": 13,
     "metadata": {},
     "output_type": "execute_result"
    }
   ],
   "source": [
    "matrix_array.transpose()"
   ]
  },
  {
   "cell_type": "code",
   "execution_count": 14,
   "id": "a047c8f3-93b5-481e-aa42-a564df35ab28",
   "metadata": {},
   "outputs": [
    {
     "data": {
      "text/plain": [
       "(3, 2)"
      ]
     },
     "execution_count": 14,
     "metadata": {},
     "output_type": "execute_result"
    }
   ],
   "source": [
    "matrix_array.shape"
   ]
  },
  {
   "cell_type": "code",
   "execution_count": 15,
   "id": "e51b8656-3e90-428c-947b-129c2f12ead5",
   "metadata": {},
   "outputs": [
    {
     "data": {
      "text/plain": [
       "array([[10, 20, 30],\n",
       "       [20, 30, 40]])"
      ]
     },
     "execution_count": 15,
     "metadata": {},
     "output_type": "execute_result"
    }
   ],
   "source": [
    "matrix_array.T"
   ]
  },
  {
   "cell_type": "code",
   "execution_count": 17,
   "id": "141bba85-56aa-4579-80bc-8f7df4c66070",
   "metadata": {},
   "outputs": [],
   "source": [
    "random_array = np.random.random((6,1))"
   ]
  },
  {
   "cell_type": "code",
   "execution_count": 18,
   "id": "4162b973-f639-40a1-8e99-8c1662ad6806",
   "metadata": {},
   "outputs": [
    {
     "data": {
      "text/plain": [
       "array([[0.57025247],\n",
       "       [0.73705045],\n",
       "       [0.96275314],\n",
       "       [0.92485528],\n",
       "       [0.62324373],\n",
       "       [0.81004114]])"
      ]
     },
     "execution_count": 18,
     "metadata": {},
     "output_type": "execute_result"
    }
   ],
   "source": [
    "random_array"
   ]
  },
  {
   "cell_type": "code",
   "execution_count": 19,
   "id": "759934ab-481a-413c-b53b-240c37a0de1b",
   "metadata": {},
   "outputs": [
    {
     "data": {
      "text/plain": [
       "(6, 1)"
      ]
     },
     "execution_count": 19,
     "metadata": {},
     "output_type": "execute_result"
    }
   ],
   "source": [
    "random_array.shape"
   ]
  },
  {
   "cell_type": "code",
   "execution_count": 20,
   "id": "ebabfd88-8669-48a1-b54e-da33cac615e5",
   "metadata": {},
   "outputs": [
    {
     "data": {
      "text/plain": [
       "array([[0.57025247, 0.73705045, 0.96275314],\n",
       "       [0.92485528, 0.62324373, 0.81004114]])"
      ]
     },
     "execution_count": 20,
     "metadata": {},
     "output_type": "execute_result"
    }
   ],
   "source": [
    "random_array.reshape(2,3)"
   ]
  },
  {
   "cell_type": "code",
   "execution_count": 21,
   "id": "16c55bc4-a763-4454-b7f9-eca79dee3a87",
   "metadata": {},
   "outputs": [
    {
     "data": {
      "text/plain": [
       "array([[0.57025247, 0.73705045],\n",
       "       [0.96275314, 0.92485528],\n",
       "       [0.62324373, 0.81004114]])"
      ]
     },
     "execution_count": 21,
     "metadata": {},
     "output_type": "execute_result"
    }
   ],
   "source": [
    "random_array.reshape(3,2)"
   ]
  },
  {
   "cell_type": "code",
   "execution_count": 22,
   "id": "0a86d173-1dc7-4fd9-9660-b3d15cb19ba2",
   "metadata": {},
   "outputs": [],
   "source": [
    "# z - skore"
   ]
  },
  {
   "cell_type": "code",
   "execution_count": 27,
   "id": "0393b620-135f-430d-bb98-9aeb44ea2998",
   "metadata": {},
   "outputs": [],
   "source": [
    "data = np.array([10,12,13,15,18,25,100,105])"
   ]
  },
  {
   "cell_type": "code",
   "execution_count": 28,
   "id": "ac6e4d72-e7b7-4e94-8a06-134cc1f617f1",
   "metadata": {},
   "outputs": [],
   "source": [
    "# outlier"
   ]
  },
  {
   "cell_type": "code",
   "execution_count": 29,
   "id": "fad53d47-0391-4996-b937-b7202595a9bd",
   "metadata": {},
   "outputs": [],
   "source": [
    "mean = np.mean(data)"
   ]
  },
  {
   "cell_type": "code",
   "execution_count": 30,
   "id": "47bda125-edfc-48f9-ac19-cd6390012f6f",
   "metadata": {},
   "outputs": [
    {
     "data": {
      "text/plain": [
       "np.float64(37.25)"
      ]
     },
     "execution_count": 30,
     "metadata": {},
     "output_type": "execute_result"
    }
   ],
   "source": [
    "mean"
   ]
  },
  {
   "cell_type": "code",
   "execution_count": 31,
   "id": "31054804-9b20-4f5b-ba5a-11d86a4493b2",
   "metadata": {},
   "outputs": [
    {
     "data": {
      "text/plain": [
       "np.float64(37.25)"
      ]
     },
     "execution_count": 31,
     "metadata": {},
     "output_type": "execute_result"
    }
   ],
   "source": [
    "data.sum() / len(data)"
   ]
  },
  {
   "cell_type": "code",
   "execution_count": 32,
   "id": "b21c0d23-03ca-4243-a0ca-cd48e6b671b9",
   "metadata": {},
   "outputs": [],
   "source": [
    "std = np.std(data)"
   ]
  },
  {
   "cell_type": "code",
   "execution_count": 33,
   "id": "827d0109-ab01-43cf-8632-271656fbcf42",
   "metadata": {},
   "outputs": [
    {
     "data": {
      "text/plain": [
       "np.float64(37.9333296719389)"
      ]
     },
     "execution_count": 33,
     "metadata": {},
     "output_type": "execute_result"
    }
   ],
   "source": [
    "std"
   ]
  },
  {
   "cell_type": "code",
   "execution_count": 35,
   "id": "e85e7f01-0f65-4947-b8ea-65fc3c68406e",
   "metadata": {},
   "outputs": [],
   "source": [
    "z_scores = (data - mean) / std"
   ]
  },
  {
   "cell_type": "code",
   "execution_count": 36,
   "id": "d71dfe7c-6b7e-4171-bcc4-973e4de3705b",
   "metadata": {},
   "outputs": [
    {
     "data": {
      "text/plain": [
       "array([-0.71836562, -0.66564154, -0.6392795 , -0.58655542, -0.50746929,\n",
       "       -0.322935  ,  1.65421809,  1.78602829])"
      ]
     },
     "execution_count": 36,
     "metadata": {},
     "output_type": "execute_result"
    }
   ],
   "source": [
    "z_scores"
   ]
  },
  {
   "cell_type": "code",
   "execution_count": 38,
   "id": "34396fc8-b0ea-46ea-8285-ce247088cc9b",
   "metadata": {},
   "outputs": [
    {
     "data": {
      "text/plain": [
       "array([100, 105])"
      ]
     },
     "execution_count": 38,
     "metadata": {},
     "output_type": "execute_result"
    }
   ],
   "source": [
    "data[z_scores > 1]"
   ]
  },
  {
   "cell_type": "code",
   "execution_count": 39,
   "id": "454a8fe4-fca4-40bd-981b-3441b58e55b9",
   "metadata": {},
   "outputs": [],
   "source": [
    "# math equations "
   ]
  },
  {
   "cell_type": "code",
   "execution_count": 40,
   "id": "c2480f53-52a4-4aba-8207-faffa3b9eefb",
   "metadata": {},
   "outputs": [],
   "source": [
    "# 2x + 3y = 8 and 5x + 7y = 19"
   ]
  },
  {
   "cell_type": "code",
   "execution_count": 41,
   "id": "1e4b39d9-699e-4e20-8bf4-29259f4d7ad4",
   "metadata": {},
   "outputs": [],
   "source": [
    "# coefficient / değişken"
   ]
  },
  {
   "cell_type": "code",
   "execution_count": 43,
   "id": "9ca11d5e-ecd7-4e63-ac93-d75f1a6fb950",
   "metadata": {},
   "outputs": [],
   "source": [
    "A = np.array([[2,3],[5,7]])"
   ]
  },
  {
   "cell_type": "code",
   "execution_count": 44,
   "id": "e7000b98-7e9f-4d5e-a992-dfdc38cb657e",
   "metadata": {},
   "outputs": [],
   "source": [
    "#constant / sabit"
   ]
  },
  {
   "cell_type": "code",
   "execution_count": 45,
   "id": "f6391672-dbb0-453e-aa8b-fa571206bed0",
   "metadata": {},
   "outputs": [],
   "source": [
    "B = np.array([8,19])"
   ]
  },
  {
   "cell_type": "code",
   "execution_count": 46,
   "id": "16f346a2-0933-4ca8-a3d4-1e4e49916719",
   "metadata": {},
   "outputs": [],
   "source": [
    "solution = np.linalg.solve(A,B)"
   ]
  },
  {
   "cell_type": "code",
   "execution_count": 48,
   "id": "08a74d96-0ae7-43a0-835a-96e2146a1f78",
   "metadata": {},
   "outputs": [
    {
     "data": {
      "text/plain": [
       "array([1., 2.])"
      ]
     },
     "execution_count": 48,
     "metadata": {},
     "output_type": "execute_result"
    }
   ],
   "source": [
    "solution # x,y"
   ]
  },
  {
   "cell_type": "code",
   "execution_count": null,
   "id": "5c7b4ca5-2518-4646-969d-475f948d3daf",
   "metadata": {},
   "outputs": [],
   "source": []
  }
 ],
 "metadata": {
  "kernelspec": {
   "display_name": "Python [conda env:base] *",
   "language": "python",
   "name": "conda-base-py"
  },
  "language_info": {
   "codemirror_mode": {
    "name": "ipython",
    "version": 3
   },
   "file_extension": ".py",
   "mimetype": "text/x-python",
   "name": "python",
   "nbconvert_exporter": "python",
   "pygments_lexer": "ipython3",
   "version": "3.13.5"
  }
 },
 "nbformat": 4,
 "nbformat_minor": 5
}
