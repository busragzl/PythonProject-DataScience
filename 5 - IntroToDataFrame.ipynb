{
 "cells": [
  {
   "cell_type": "code",
   "execution_count": 1,
   "id": "c61ebed4-b6ae-4419-be40-c29b4daf8022",
   "metadata": {},
   "outputs": [],
   "source": [
    "import pandas as pd"
   ]
  },
  {
   "cell_type": "code",
   "execution_count": 3,
   "id": "27e494e9-1fd5-43fd-b3a2-e1a2131dd7e5",
   "metadata": {},
   "outputs": [],
   "source": [
    "import numpy as np"
   ]
  },
  {
   "cell_type": "code",
   "execution_count": 23,
   "id": "b6006297-27a6-4bed-8c4f-d8806cfc5ab3",
   "metadata": {},
   "outputs": [],
   "source": [
    "data = np.random.randn(4,3)"
   ]
  },
  {
   "cell_type": "code",
   "execution_count": 24,
   "id": "892cc49c-4b37-4d4a-bf03-02c0e636dc08",
   "metadata": {},
   "outputs": [
    {
     "data": {
      "text/plain": [
       "array([[-1.81706793, -0.63452185, -0.89312045],\n",
       "       [-0.9548384 , -1.47093622,  0.21506756],\n",
       "       [-0.90567863,  1.39605635,  0.04513854],\n",
       "       [ 1.09379995,  0.32215144,  0.17740181]])"
      ]
     },
     "execution_count": 24,
     "metadata": {},
     "output_type": "execute_result"
    }
   ],
   "source": [
    "data"
   ]
  },
  {
   "cell_type": "code",
   "execution_count": 25,
   "id": "a7ed8e92-a34a-433e-87f6-ab34889ca020",
   "metadata": {},
   "outputs": [],
   "source": [
    "data_frame = pd.DataFrame(data)"
   ]
  },
  {
   "cell_type": "code",
   "execution_count": 26,
   "id": "fbd7f2a7-af70-47f0-abb3-403954f767e2",
   "metadata": {},
   "outputs": [
    {
     "data": {
      "text/html": [
       "<div>\n",
       "<style scoped>\n",
       "    .dataframe tbody tr th:only-of-type {\n",
       "        vertical-align: middle;\n",
       "    }\n",
       "\n",
       "    .dataframe tbody tr th {\n",
       "        vertical-align: top;\n",
       "    }\n",
       "\n",
       "    .dataframe thead th {\n",
       "        text-align: right;\n",
       "    }\n",
       "</style>\n",
       "<table border=\"1\" class=\"dataframe\">\n",
       "  <thead>\n",
       "    <tr style=\"text-align: right;\">\n",
       "      <th></th>\n",
       "      <th>0</th>\n",
       "      <th>1</th>\n",
       "      <th>2</th>\n",
       "    </tr>\n",
       "  </thead>\n",
       "  <tbody>\n",
       "    <tr>\n",
       "      <th>0</th>\n",
       "      <td>-1.817068</td>\n",
       "      <td>-0.634522</td>\n",
       "      <td>-0.893120</td>\n",
       "    </tr>\n",
       "    <tr>\n",
       "      <th>1</th>\n",
       "      <td>-0.954838</td>\n",
       "      <td>-1.470936</td>\n",
       "      <td>0.215068</td>\n",
       "    </tr>\n",
       "    <tr>\n",
       "      <th>2</th>\n",
       "      <td>-0.905679</td>\n",
       "      <td>1.396056</td>\n",
       "      <td>0.045139</td>\n",
       "    </tr>\n",
       "    <tr>\n",
       "      <th>3</th>\n",
       "      <td>1.093800</td>\n",
       "      <td>0.322151</td>\n",
       "      <td>0.177402</td>\n",
       "    </tr>\n",
       "  </tbody>\n",
       "</table>\n",
       "</div>"
      ],
      "text/plain": [
       "          0         1         2\n",
       "0 -1.817068 -0.634522 -0.893120\n",
       "1 -0.954838 -1.470936  0.215068\n",
       "2 -0.905679  1.396056  0.045139\n",
       "3  1.093800  0.322151  0.177402"
      ]
     },
     "execution_count": 26,
     "metadata": {},
     "output_type": "execute_result"
    }
   ],
   "source": [
    "data_frame"
   ]
  },
  {
   "cell_type": "code",
   "execution_count": 27,
   "id": "309eb885-72d8-4028-86bb-80c7b3e7b598",
   "metadata": {},
   "outputs": [
    {
     "data": {
      "text/plain": [
       "pandas.core.frame.DataFrame"
      ]
     },
     "execution_count": 27,
     "metadata": {},
     "output_type": "execute_result"
    }
   ],
   "source": [
    "type(data_frame)"
   ]
  },
  {
   "cell_type": "code",
   "execution_count": 28,
   "id": "8bc51ce7-7e01-4c7f-8677-08a9042a1523",
   "metadata": {},
   "outputs": [
    {
     "data": {
      "text/plain": [
       "0   -1.817068\n",
       "1   -0.954838\n",
       "2   -0.905679\n",
       "3    1.093800\n",
       "Name: 0, dtype: float64"
      ]
     },
     "execution_count": 28,
     "metadata": {},
     "output_type": "execute_result"
    }
   ],
   "source": [
    "data_frame[0]"
   ]
  },
  {
   "cell_type": "code",
   "execution_count": 29,
   "id": "72ce3a68-290a-414e-9f17-1c823e9a6a20",
   "metadata": {},
   "outputs": [
    {
     "data": {
      "text/plain": [
       "pandas.core.series.Series"
      ]
     },
     "execution_count": 29,
     "metadata": {},
     "output_type": "execute_result"
    }
   ],
   "source": [
    "type(data_frame[0])"
   ]
  },
  {
   "cell_type": "code",
   "execution_count": 30,
   "id": "a3546b9c-1799-407c-8a41-70fa77e274f9",
   "metadata": {},
   "outputs": [],
   "source": [
    "new_df = pd.DataFrame(data, index= [\"Busra\",\"Zeynep\",\"Atlas\",\"Mehmet\"], columns=[\"Salary\",\"Age\",\"Seniority\"])"
   ]
  },
  {
   "cell_type": "code",
   "execution_count": 31,
   "id": "4d8d1dc6-fcd0-4319-8dad-c2541f665b66",
   "metadata": {},
   "outputs": [
    {
     "data": {
      "text/html": [
       "<div>\n",
       "<style scoped>\n",
       "    .dataframe tbody tr th:only-of-type {\n",
       "        vertical-align: middle;\n",
       "    }\n",
       "\n",
       "    .dataframe tbody tr th {\n",
       "        vertical-align: top;\n",
       "    }\n",
       "\n",
       "    .dataframe thead th {\n",
       "        text-align: right;\n",
       "    }\n",
       "</style>\n",
       "<table border=\"1\" class=\"dataframe\">\n",
       "  <thead>\n",
       "    <tr style=\"text-align: right;\">\n",
       "      <th></th>\n",
       "      <th>Salary</th>\n",
       "      <th>Age</th>\n",
       "      <th>Seniority</th>\n",
       "    </tr>\n",
       "  </thead>\n",
       "  <tbody>\n",
       "    <tr>\n",
       "      <th>Busra</th>\n",
       "      <td>-1.817068</td>\n",
       "      <td>-0.634522</td>\n",
       "      <td>-0.893120</td>\n",
       "    </tr>\n",
       "    <tr>\n",
       "      <th>Zeynep</th>\n",
       "      <td>-0.954838</td>\n",
       "      <td>-1.470936</td>\n",
       "      <td>0.215068</td>\n",
       "    </tr>\n",
       "    <tr>\n",
       "      <th>Atlas</th>\n",
       "      <td>-0.905679</td>\n",
       "      <td>1.396056</td>\n",
       "      <td>0.045139</td>\n",
       "    </tr>\n",
       "    <tr>\n",
       "      <th>Mehmet</th>\n",
       "      <td>1.093800</td>\n",
       "      <td>0.322151</td>\n",
       "      <td>0.177402</td>\n",
       "    </tr>\n",
       "  </tbody>\n",
       "</table>\n",
       "</div>"
      ],
      "text/plain": [
       "          Salary       Age  Seniority\n",
       "Busra  -1.817068 -0.634522  -0.893120\n",
       "Zeynep -0.954838 -1.470936   0.215068\n",
       "Atlas  -0.905679  1.396056   0.045139\n",
       "Mehmet  1.093800  0.322151   0.177402"
      ]
     },
     "execution_count": 31,
     "metadata": {},
     "output_type": "execute_result"
    }
   ],
   "source": [
    "new_df"
   ]
  },
  {
   "cell_type": "code",
   "execution_count": 32,
   "id": "dda86ab5-1d4c-46d6-9c57-ff65e71c588c",
   "metadata": {},
   "outputs": [
    {
     "data": {
      "text/plain": [
       "Busra    -0.634522\n",
       "Zeynep   -1.470936\n",
       "Atlas     1.396056\n",
       "Mehmet    0.322151\n",
       "Name: Age, dtype: float64"
      ]
     },
     "execution_count": 32,
     "metadata": {},
     "output_type": "execute_result"
    }
   ],
   "source": [
    "new_df[\"Age\"]"
   ]
  },
  {
   "cell_type": "code",
   "execution_count": 33,
   "id": "23e636b3-a579-44f1-baca-901fc223fcee",
   "metadata": {},
   "outputs": [
    {
     "data": {
      "text/plain": [
       "Busra    -0.893120\n",
       "Zeynep    0.215068\n",
       "Atlas     0.045139\n",
       "Mehmet    0.177402\n",
       "Name: Seniority, dtype: float64"
      ]
     },
     "execution_count": 33,
     "metadata": {},
     "output_type": "execute_result"
    }
   ],
   "source": [
    "new_df[\"Seniority\"]"
   ]
  },
  {
   "cell_type": "code",
   "execution_count": 34,
   "id": "6faaa976-9abd-4f0a-be3b-baae68d0e831",
   "metadata": {},
   "outputs": [
    {
     "data": {
      "text/html": [
       "<div>\n",
       "<style scoped>\n",
       "    .dataframe tbody tr th:only-of-type {\n",
       "        vertical-align: middle;\n",
       "    }\n",
       "\n",
       "    .dataframe tbody tr th {\n",
       "        vertical-align: top;\n",
       "    }\n",
       "\n",
       "    .dataframe thead th {\n",
       "        text-align: right;\n",
       "    }\n",
       "</style>\n",
       "<table border=\"1\" class=\"dataframe\">\n",
       "  <thead>\n",
       "    <tr style=\"text-align: right;\">\n",
       "      <th></th>\n",
       "      <th>Age</th>\n",
       "      <th>Seniority</th>\n",
       "    </tr>\n",
       "  </thead>\n",
       "  <tbody>\n",
       "    <tr>\n",
       "      <th>Busra</th>\n",
       "      <td>-0.634522</td>\n",
       "      <td>-0.893120</td>\n",
       "    </tr>\n",
       "    <tr>\n",
       "      <th>Zeynep</th>\n",
       "      <td>-1.470936</td>\n",
       "      <td>0.215068</td>\n",
       "    </tr>\n",
       "    <tr>\n",
       "      <th>Atlas</th>\n",
       "      <td>1.396056</td>\n",
       "      <td>0.045139</td>\n",
       "    </tr>\n",
       "    <tr>\n",
       "      <th>Mehmet</th>\n",
       "      <td>0.322151</td>\n",
       "      <td>0.177402</td>\n",
       "    </tr>\n",
       "  </tbody>\n",
       "</table>\n",
       "</div>"
      ],
      "text/plain": [
       "             Age  Seniority\n",
       "Busra  -0.634522  -0.893120\n",
       "Zeynep -1.470936   0.215068\n",
       "Atlas   1.396056   0.045139\n",
       "Mehmet  0.322151   0.177402"
      ]
     },
     "execution_count": 34,
     "metadata": {},
     "output_type": "execute_result"
    }
   ],
   "source": [
    "new_df[[\"Age\",\"Seniority\"]]"
   ]
  },
  {
   "cell_type": "code",
   "execution_count": 35,
   "id": "5f6217ce-b977-4a2e-8112-69a3020f7bdb",
   "metadata": {},
   "outputs": [
    {
     "data": {
      "text/plain": [
       "Salary      -1.817068\n",
       "Age         -0.634522\n",
       "Seniority   -0.893120\n",
       "Name: Busra, dtype: float64"
      ]
     },
     "execution_count": 35,
     "metadata": {},
     "output_type": "execute_result"
    }
   ],
   "source": [
    "new_df.loc[\"Busra\"]"
   ]
  },
  {
   "cell_type": "code",
   "execution_count": 36,
   "id": "6593a145-6a24-4e37-aff5-5782cf1e42e0",
   "metadata": {},
   "outputs": [
    {
     "data": {
      "text/plain": [
       "Salary      -1.817068\n",
       "Age         -0.634522\n",
       "Seniority   -0.893120\n",
       "Name: Busra, dtype: float64"
      ]
     },
     "execution_count": 36,
     "metadata": {},
     "output_type": "execute_result"
    }
   ],
   "source": [
    "new_df.iloc[0]"
   ]
  },
  {
   "cell_type": "code",
   "execution_count": 38,
   "id": "7a93c675-dcce-4496-8a48-2ccec1025e43",
   "metadata": {},
   "outputs": [
    {
     "data": {
      "text/plain": [
       "Busra    -0.634522\n",
       "Zeynep   -1.470936\n",
       "Atlas     1.396056\n",
       "Mehmet    0.322151\n",
       "Name: Age, dtype: float64"
      ]
     },
     "execution_count": 38,
     "metadata": {},
     "output_type": "execute_result"
    }
   ],
   "source": [
    "new_df.iloc[:,1] # Bütün rowları seç ve 1 sütunu getir"
   ]
  },
  {
   "cell_type": "code",
   "execution_count": 52,
   "id": "0cad5414-3f8f-4b97-8771-98a953271349",
   "metadata": {},
   "outputs": [],
   "source": [
    "new_df[\"Extra\"] = 10 # Kolon ekleme"
   ]
  },
  {
   "cell_type": "code",
   "execution_count": 53,
   "id": "fbff6ecb-a963-425c-a8db-697da4575147",
   "metadata": {},
   "outputs": [
    {
     "data": {
      "text/html": [
       "<div>\n",
       "<style scoped>\n",
       "    .dataframe tbody tr th:only-of-type {\n",
       "        vertical-align: middle;\n",
       "    }\n",
       "\n",
       "    .dataframe tbody tr th {\n",
       "        vertical-align: top;\n",
       "    }\n",
       "\n",
       "    .dataframe thead th {\n",
       "        text-align: right;\n",
       "    }\n",
       "</style>\n",
       "<table border=\"1\" class=\"dataframe\">\n",
       "  <thead>\n",
       "    <tr style=\"text-align: right;\">\n",
       "      <th></th>\n",
       "      <th>Salary</th>\n",
       "      <th>Age</th>\n",
       "      <th>Seniority</th>\n",
       "      <th>Extra</th>\n",
       "    </tr>\n",
       "  </thead>\n",
       "  <tbody>\n",
       "    <tr>\n",
       "      <th>Busra</th>\n",
       "      <td>-1.817068</td>\n",
       "      <td>-0.634522</td>\n",
       "      <td>-0.893120</td>\n",
       "      <td>10</td>\n",
       "    </tr>\n",
       "    <tr>\n",
       "      <th>Zeynep</th>\n",
       "      <td>-0.954838</td>\n",
       "      <td>-1.470936</td>\n",
       "      <td>0.215068</td>\n",
       "      <td>10</td>\n",
       "    </tr>\n",
       "    <tr>\n",
       "      <th>Atlas</th>\n",
       "      <td>-0.905679</td>\n",
       "      <td>1.396056</td>\n",
       "      <td>0.045139</td>\n",
       "      <td>10</td>\n",
       "    </tr>\n",
       "    <tr>\n",
       "      <th>Mehmet</th>\n",
       "      <td>1.093800</td>\n",
       "      <td>0.322151</td>\n",
       "      <td>0.177402</td>\n",
       "      <td>10</td>\n",
       "    </tr>\n",
       "  </tbody>\n",
       "</table>\n",
       "</div>"
      ],
      "text/plain": [
       "          Salary       Age  Seniority  Extra\n",
       "Busra  -1.817068 -0.634522  -0.893120     10\n",
       "Zeynep -0.954838 -1.470936   0.215068     10\n",
       "Atlas  -0.905679  1.396056   0.045139     10\n",
       "Mehmet  1.093800  0.322151   0.177402     10"
      ]
     },
     "execution_count": 53,
     "metadata": {},
     "output_type": "execute_result"
    }
   ],
   "source": [
    "new_df"
   ]
  },
  {
   "cell_type": "code",
   "execution_count": 54,
   "id": "50918ebe-1cd2-4f5d-ad88-f5e25a86e2e7",
   "metadata": {},
   "outputs": [
    {
     "data": {
      "text/html": [
       "<div>\n",
       "<style scoped>\n",
       "    .dataframe tbody tr th:only-of-type {\n",
       "        vertical-align: middle;\n",
       "    }\n",
       "\n",
       "    .dataframe tbody tr th {\n",
       "        vertical-align: top;\n",
       "    }\n",
       "\n",
       "    .dataframe thead th {\n",
       "        text-align: right;\n",
       "    }\n",
       "</style>\n",
       "<table border=\"1\" class=\"dataframe\">\n",
       "  <thead>\n",
       "    <tr style=\"text-align: right;\">\n",
       "      <th></th>\n",
       "      <th>Salary</th>\n",
       "      <th>Age</th>\n",
       "      <th>Seniority</th>\n",
       "    </tr>\n",
       "  </thead>\n",
       "  <tbody>\n",
       "    <tr>\n",
       "      <th>Busra</th>\n",
       "      <td>-1.817068</td>\n",
       "      <td>-0.634522</td>\n",
       "      <td>-0.893120</td>\n",
       "    </tr>\n",
       "    <tr>\n",
       "      <th>Zeynep</th>\n",
       "      <td>-0.954838</td>\n",
       "      <td>-1.470936</td>\n",
       "      <td>0.215068</td>\n",
       "    </tr>\n",
       "    <tr>\n",
       "      <th>Atlas</th>\n",
       "      <td>-0.905679</td>\n",
       "      <td>1.396056</td>\n",
       "      <td>0.045139</td>\n",
       "    </tr>\n",
       "    <tr>\n",
       "      <th>Mehmet</th>\n",
       "      <td>1.093800</td>\n",
       "      <td>0.322151</td>\n",
       "      <td>0.177402</td>\n",
       "    </tr>\n",
       "  </tbody>\n",
       "</table>\n",
       "</div>"
      ],
      "text/plain": [
       "          Salary       Age  Seniority\n",
       "Busra  -1.817068 -0.634522  -0.893120\n",
       "Zeynep -0.954838 -1.470936   0.215068\n",
       "Atlas  -0.905679  1.396056   0.045139\n",
       "Mehmet  1.093800  0.322151   0.177402"
      ]
     },
     "execution_count": 54,
     "metadata": {},
     "output_type": "execute_result"
    }
   ],
   "source": [
    "new_df.drop(\"Extra\", axis=1) # Kolon Silme"
   ]
  },
  {
   "cell_type": "code",
   "execution_count": 55,
   "id": "9292eaa8-b9f4-4f64-b0f0-733fca6f3646",
   "metadata": {},
   "outputs": [
    {
     "data": {
      "text/html": [
       "<div>\n",
       "<style scoped>\n",
       "    .dataframe tbody tr th:only-of-type {\n",
       "        vertical-align: middle;\n",
       "    }\n",
       "\n",
       "    .dataframe tbody tr th {\n",
       "        vertical-align: top;\n",
       "    }\n",
       "\n",
       "    .dataframe thead th {\n",
       "        text-align: right;\n",
       "    }\n",
       "</style>\n",
       "<table border=\"1\" class=\"dataframe\">\n",
       "  <thead>\n",
       "    <tr style=\"text-align: right;\">\n",
       "      <th></th>\n",
       "      <th>Salary</th>\n",
       "      <th>Age</th>\n",
       "      <th>Seniority</th>\n",
       "      <th>Extra</th>\n",
       "    </tr>\n",
       "  </thead>\n",
       "  <tbody>\n",
       "    <tr>\n",
       "      <th>Busra</th>\n",
       "      <td>-1.817068</td>\n",
       "      <td>-0.634522</td>\n",
       "      <td>-0.893120</td>\n",
       "      <td>10</td>\n",
       "    </tr>\n",
       "    <tr>\n",
       "      <th>Zeynep</th>\n",
       "      <td>-0.954838</td>\n",
       "      <td>-1.470936</td>\n",
       "      <td>0.215068</td>\n",
       "      <td>10</td>\n",
       "    </tr>\n",
       "    <tr>\n",
       "      <th>Atlas</th>\n",
       "      <td>-0.905679</td>\n",
       "      <td>1.396056</td>\n",
       "      <td>0.045139</td>\n",
       "      <td>10</td>\n",
       "    </tr>\n",
       "    <tr>\n",
       "      <th>Mehmet</th>\n",
       "      <td>1.093800</td>\n",
       "      <td>0.322151</td>\n",
       "      <td>0.177402</td>\n",
       "      <td>10</td>\n",
       "    </tr>\n",
       "  </tbody>\n",
       "</table>\n",
       "</div>"
      ],
      "text/plain": [
       "          Salary       Age  Seniority  Extra\n",
       "Busra  -1.817068 -0.634522  -0.893120     10\n",
       "Zeynep -0.954838 -1.470936   0.215068     10\n",
       "Atlas  -0.905679  1.396056   0.045139     10\n",
       "Mehmet  1.093800  0.322151   0.177402     10"
      ]
     },
     "execution_count": 55,
     "metadata": {},
     "output_type": "execute_result"
    }
   ],
   "source": [
    "new_df"
   ]
  },
  {
   "cell_type": "code",
   "execution_count": 56,
   "id": "9f2dda22-e37b-450c-8bf0-388cf39bc0cd",
   "metadata": {},
   "outputs": [],
   "source": [
    "new_df.drop(\"Extra\",axis=1,inplace=True) # inplace = içinde bunu yap olanı bu hale getir"
   ]
  },
  {
   "cell_type": "code",
   "execution_count": 58,
   "id": "6375f197-4f7f-4762-a378-e39fc20c3427",
   "metadata": {},
   "outputs": [],
   "source": [
    "new_df[\"Mehmet\"] = 10"
   ]
  },
  {
   "cell_type": "code",
   "execution_count": 59,
   "id": "ece23b94-3961-46eb-8a84-59a664d8d1c9",
   "metadata": {},
   "outputs": [
    {
     "data": {
      "text/html": [
       "<div>\n",
       "<style scoped>\n",
       "    .dataframe tbody tr th:only-of-type {\n",
       "        vertical-align: middle;\n",
       "    }\n",
       "\n",
       "    .dataframe tbody tr th {\n",
       "        vertical-align: top;\n",
       "    }\n",
       "\n",
       "    .dataframe thead th {\n",
       "        text-align: right;\n",
       "    }\n",
       "</style>\n",
       "<table border=\"1\" class=\"dataframe\">\n",
       "  <thead>\n",
       "    <tr style=\"text-align: right;\">\n",
       "      <th></th>\n",
       "      <th>Salary</th>\n",
       "      <th>Age</th>\n",
       "      <th>Seniority</th>\n",
       "      <th>Mehmet</th>\n",
       "    </tr>\n",
       "  </thead>\n",
       "  <tbody>\n",
       "    <tr>\n",
       "      <th>Busra</th>\n",
       "      <td>-1.817068</td>\n",
       "      <td>-0.634522</td>\n",
       "      <td>-0.893120</td>\n",
       "      <td>10</td>\n",
       "    </tr>\n",
       "    <tr>\n",
       "      <th>Zeynep</th>\n",
       "      <td>-0.954838</td>\n",
       "      <td>-1.470936</td>\n",
       "      <td>0.215068</td>\n",
       "      <td>10</td>\n",
       "    </tr>\n",
       "    <tr>\n",
       "      <th>Atlas</th>\n",
       "      <td>-0.905679</td>\n",
       "      <td>1.396056</td>\n",
       "      <td>0.045139</td>\n",
       "      <td>10</td>\n",
       "    </tr>\n",
       "    <tr>\n",
       "      <th>Mehmet</th>\n",
       "      <td>1.093800</td>\n",
       "      <td>0.322151</td>\n",
       "      <td>0.177402</td>\n",
       "      <td>10</td>\n",
       "    </tr>\n",
       "  </tbody>\n",
       "</table>\n",
       "</div>"
      ],
      "text/plain": [
       "          Salary       Age  Seniority  Mehmet\n",
       "Busra  -1.817068 -0.634522  -0.893120      10\n",
       "Zeynep -0.954838 -1.470936   0.215068      10\n",
       "Atlas  -0.905679  1.396056   0.045139      10\n",
       "Mehmet  1.093800  0.322151   0.177402      10"
      ]
     },
     "execution_count": 59,
     "metadata": {},
     "output_type": "execute_result"
    }
   ],
   "source": [
    "new_df"
   ]
  },
  {
   "cell_type": "code",
   "execution_count": 60,
   "id": "1a337cdc-2e33-42db-a471-305d9403efc1",
   "metadata": {},
   "outputs": [
    {
     "data": {
      "text/html": [
       "<div>\n",
       "<style scoped>\n",
       "    .dataframe tbody tr th:only-of-type {\n",
       "        vertical-align: middle;\n",
       "    }\n",
       "\n",
       "    .dataframe tbody tr th {\n",
       "        vertical-align: top;\n",
       "    }\n",
       "\n",
       "    .dataframe thead th {\n",
       "        text-align: right;\n",
       "    }\n",
       "</style>\n",
       "<table border=\"1\" class=\"dataframe\">\n",
       "  <thead>\n",
       "    <tr style=\"text-align: right;\">\n",
       "      <th></th>\n",
       "      <th>Salary</th>\n",
       "      <th>Age</th>\n",
       "      <th>Seniority</th>\n",
       "      <th>Mehmet</th>\n",
       "    </tr>\n",
       "  </thead>\n",
       "  <tbody>\n",
       "    <tr>\n",
       "      <th>Busra</th>\n",
       "      <td>-1.817068</td>\n",
       "      <td>-0.634522</td>\n",
       "      <td>-0.893120</td>\n",
       "      <td>10</td>\n",
       "    </tr>\n",
       "    <tr>\n",
       "      <th>Zeynep</th>\n",
       "      <td>-0.954838</td>\n",
       "      <td>-1.470936</td>\n",
       "      <td>0.215068</td>\n",
       "      <td>10</td>\n",
       "    </tr>\n",
       "    <tr>\n",
       "      <th>Atlas</th>\n",
       "      <td>-0.905679</td>\n",
       "      <td>1.396056</td>\n",
       "      <td>0.045139</td>\n",
       "      <td>10</td>\n",
       "    </tr>\n",
       "  </tbody>\n",
       "</table>\n",
       "</div>"
      ],
      "text/plain": [
       "          Salary       Age  Seniority  Mehmet\n",
       "Busra  -1.817068 -0.634522  -0.893120      10\n",
       "Zeynep -0.954838 -1.470936   0.215068      10\n",
       "Atlas  -0.905679  1.396056   0.045139      10"
      ]
     },
     "execution_count": 60,
     "metadata": {},
     "output_type": "execute_result"
    }
   ],
   "source": [
    "new_df.drop(\"Mehmet\")"
   ]
  },
  {
   "cell_type": "code",
   "execution_count": 61,
   "id": "0d15e524-f450-45d9-8754-e8a97d0e5022",
   "metadata": {},
   "outputs": [
    {
     "data": {
      "text/html": [
       "<div>\n",
       "<style scoped>\n",
       "    .dataframe tbody tr th:only-of-type {\n",
       "        vertical-align: middle;\n",
       "    }\n",
       "\n",
       "    .dataframe tbody tr th {\n",
       "        vertical-align: top;\n",
       "    }\n",
       "\n",
       "    .dataframe thead th {\n",
       "        text-align: right;\n",
       "    }\n",
       "</style>\n",
       "<table border=\"1\" class=\"dataframe\">\n",
       "  <thead>\n",
       "    <tr style=\"text-align: right;\">\n",
       "      <th></th>\n",
       "      <th>Salary</th>\n",
       "      <th>Age</th>\n",
       "      <th>Seniority</th>\n",
       "      <th>Mehmet</th>\n",
       "    </tr>\n",
       "  </thead>\n",
       "  <tbody>\n",
       "    <tr>\n",
       "      <th>Busra</th>\n",
       "      <td>-1.817068</td>\n",
       "      <td>-0.634522</td>\n",
       "      <td>-0.893120</td>\n",
       "      <td>10</td>\n",
       "    </tr>\n",
       "    <tr>\n",
       "      <th>Zeynep</th>\n",
       "      <td>-0.954838</td>\n",
       "      <td>-1.470936</td>\n",
       "      <td>0.215068</td>\n",
       "      <td>10</td>\n",
       "    </tr>\n",
       "    <tr>\n",
       "      <th>Atlas</th>\n",
       "      <td>-0.905679</td>\n",
       "      <td>1.396056</td>\n",
       "      <td>0.045139</td>\n",
       "      <td>10</td>\n",
       "    </tr>\n",
       "    <tr>\n",
       "      <th>Mehmet</th>\n",
       "      <td>1.093800</td>\n",
       "      <td>0.322151</td>\n",
       "      <td>0.177402</td>\n",
       "      <td>10</td>\n",
       "    </tr>\n",
       "  </tbody>\n",
       "</table>\n",
       "</div>"
      ],
      "text/plain": [
       "          Salary       Age  Seniority  Mehmet\n",
       "Busra  -1.817068 -0.634522  -0.893120      10\n",
       "Zeynep -0.954838 -1.470936   0.215068      10\n",
       "Atlas  -0.905679  1.396056   0.045139      10\n",
       "Mehmet  1.093800  0.322151   0.177402      10"
      ]
     },
     "execution_count": 61,
     "metadata": {},
     "output_type": "execute_result"
    }
   ],
   "source": [
    "new_df"
   ]
  },
  {
   "cell_type": "code",
   "execution_count": 62,
   "id": "8369eb26-6043-4bc0-895f-5c08e2f57c81",
   "metadata": {},
   "outputs": [],
   "source": [
    "new_df.drop(\"Mehmet\",axis=1,inplace=True)"
   ]
  },
  {
   "cell_type": "code",
   "execution_count": 63,
   "id": "3959b5bb-4214-4542-9b69-f731b45011f8",
   "metadata": {},
   "outputs": [
    {
     "data": {
      "text/html": [
       "<div>\n",
       "<style scoped>\n",
       "    .dataframe tbody tr th:only-of-type {\n",
       "        vertical-align: middle;\n",
       "    }\n",
       "\n",
       "    .dataframe tbody tr th {\n",
       "        vertical-align: top;\n",
       "    }\n",
       "\n",
       "    .dataframe thead th {\n",
       "        text-align: right;\n",
       "    }\n",
       "</style>\n",
       "<table border=\"1\" class=\"dataframe\">\n",
       "  <thead>\n",
       "    <tr style=\"text-align: right;\">\n",
       "      <th></th>\n",
       "      <th>Salary</th>\n",
       "      <th>Age</th>\n",
       "      <th>Seniority</th>\n",
       "    </tr>\n",
       "  </thead>\n",
       "  <tbody>\n",
       "    <tr>\n",
       "      <th>Busra</th>\n",
       "      <td>-1.817068</td>\n",
       "      <td>-0.634522</td>\n",
       "      <td>-0.893120</td>\n",
       "    </tr>\n",
       "    <tr>\n",
       "      <th>Zeynep</th>\n",
       "      <td>-0.954838</td>\n",
       "      <td>-1.470936</td>\n",
       "      <td>0.215068</td>\n",
       "    </tr>\n",
       "    <tr>\n",
       "      <th>Atlas</th>\n",
       "      <td>-0.905679</td>\n",
       "      <td>1.396056</td>\n",
       "      <td>0.045139</td>\n",
       "    </tr>\n",
       "    <tr>\n",
       "      <th>Mehmet</th>\n",
       "      <td>1.093800</td>\n",
       "      <td>0.322151</td>\n",
       "      <td>0.177402</td>\n",
       "    </tr>\n",
       "  </tbody>\n",
       "</table>\n",
       "</div>"
      ],
      "text/plain": [
       "          Salary       Age  Seniority\n",
       "Busra  -1.817068 -0.634522  -0.893120\n",
       "Zeynep -0.954838 -1.470936   0.215068\n",
       "Atlas  -0.905679  1.396056   0.045139\n",
       "Mehmet  1.093800  0.322151   0.177402"
      ]
     },
     "execution_count": 63,
     "metadata": {},
     "output_type": "execute_result"
    }
   ],
   "source": [
    "new_df"
   ]
  },
  {
   "cell_type": "code",
   "execution_count": 64,
   "id": "6a9d7302-cbe2-43c2-aa7c-dbc14b532507",
   "metadata": {},
   "outputs": [
    {
     "data": {
      "text/html": [
       "<div>\n",
       "<style scoped>\n",
       "    .dataframe tbody tr th:only-of-type {\n",
       "        vertical-align: middle;\n",
       "    }\n",
       "\n",
       "    .dataframe tbody tr th {\n",
       "        vertical-align: top;\n",
       "    }\n",
       "\n",
       "    .dataframe thead th {\n",
       "        text-align: right;\n",
       "    }\n",
       "</style>\n",
       "<table border=\"1\" class=\"dataframe\">\n",
       "  <thead>\n",
       "    <tr style=\"text-align: right;\">\n",
       "      <th></th>\n",
       "      <th>Salary</th>\n",
       "      <th>Age</th>\n",
       "      <th>Seniority</th>\n",
       "    </tr>\n",
       "  </thead>\n",
       "  <tbody>\n",
       "    <tr>\n",
       "      <th>Busra</th>\n",
       "      <td>-1.817068</td>\n",
       "      <td>-0.634522</td>\n",
       "      <td>-0.893120</td>\n",
       "    </tr>\n",
       "    <tr>\n",
       "      <th>Zeynep</th>\n",
       "      <td>-0.954838</td>\n",
       "      <td>-1.470936</td>\n",
       "      <td>0.215068</td>\n",
       "    </tr>\n",
       "    <tr>\n",
       "      <th>Atlas</th>\n",
       "      <td>-0.905679</td>\n",
       "      <td>1.396056</td>\n",
       "      <td>0.045139</td>\n",
       "    </tr>\n",
       "  </tbody>\n",
       "</table>\n",
       "</div>"
      ],
      "text/plain": [
       "          Salary       Age  Seniority\n",
       "Busra  -1.817068 -0.634522  -0.893120\n",
       "Zeynep -0.954838 -1.470936   0.215068\n",
       "Atlas  -0.905679  1.396056   0.045139"
      ]
     },
     "execution_count": 64,
     "metadata": {},
     "output_type": "execute_result"
    }
   ],
   "source": [
    "new_df.drop(\"Mehmet\",axis=0)"
   ]
  },
  {
   "cell_type": "code",
   "execution_count": 65,
   "id": "b01d3456-bc1d-4637-a9b3-2534453c73f3",
   "metadata": {},
   "outputs": [
    {
     "data": {
      "text/plain": [
       "Salary      -0.905679\n",
       "Age          1.396056\n",
       "Seniority    0.045139\n",
       "Name: Atlas, dtype: float64"
      ]
     },
     "execution_count": 65,
     "metadata": {},
     "output_type": "execute_result"
    }
   ],
   "source": [
    "new_df.loc[\"Atlas\"]"
   ]
  },
  {
   "cell_type": "code",
   "execution_count": 70,
   "id": "6262578b-d396-4eea-9652-25bf44c59265",
   "metadata": {},
   "outputs": [
    {
     "data": {
      "text/plain": [
       "np.float64(100.0)"
      ]
     },
     "execution_count": 70,
     "metadata": {},
     "output_type": "execute_result"
    }
   ],
   "source": [
    "new_df.loc[\"Atlas\",\"Salary\"] "
   ]
  },
  {
   "cell_type": "code",
   "execution_count": 71,
   "id": "e91580e3-434b-443c-ad14-0134b9f9094b",
   "metadata": {},
   "outputs": [],
   "source": [
    "new_df.loc[\"Atlas\",\"Salary\"] = 100\n"
   ]
  },
  {
   "cell_type": "code",
   "execution_count": 72,
   "id": "6240ed92-30de-4e85-bf78-2c78fbf3e1a0",
   "metadata": {},
   "outputs": [
    {
     "data": {
      "text/html": [
       "<div>\n",
       "<style scoped>\n",
       "    .dataframe tbody tr th:only-of-type {\n",
       "        vertical-align: middle;\n",
       "    }\n",
       "\n",
       "    .dataframe tbody tr th {\n",
       "        vertical-align: top;\n",
       "    }\n",
       "\n",
       "    .dataframe thead th {\n",
       "        text-align: right;\n",
       "    }\n",
       "</style>\n",
       "<table border=\"1\" class=\"dataframe\">\n",
       "  <thead>\n",
       "    <tr style=\"text-align: right;\">\n",
       "      <th></th>\n",
       "      <th>Salary</th>\n",
       "      <th>Age</th>\n",
       "      <th>Seniority</th>\n",
       "    </tr>\n",
       "  </thead>\n",
       "  <tbody>\n",
       "    <tr>\n",
       "      <th>Busra</th>\n",
       "      <td>-1.817068</td>\n",
       "      <td>-0.634522</td>\n",
       "      <td>-0.893120</td>\n",
       "    </tr>\n",
       "    <tr>\n",
       "      <th>Zeynep</th>\n",
       "      <td>-0.954838</td>\n",
       "      <td>-1.470936</td>\n",
       "      <td>0.215068</td>\n",
       "    </tr>\n",
       "    <tr>\n",
       "      <th>Atlas</th>\n",
       "      <td>100.000000</td>\n",
       "      <td>1.396056</td>\n",
       "      <td>0.045139</td>\n",
       "    </tr>\n",
       "    <tr>\n",
       "      <th>Mehmet</th>\n",
       "      <td>1.093800</td>\n",
       "      <td>0.322151</td>\n",
       "      <td>0.177402</td>\n",
       "    </tr>\n",
       "  </tbody>\n",
       "</table>\n",
       "</div>"
      ],
      "text/plain": [
       "            Salary       Age  Seniority\n",
       "Busra    -1.817068 -0.634522  -0.893120\n",
       "Zeynep   -0.954838 -1.470936   0.215068\n",
       "Atlas   100.000000  1.396056   0.045139\n",
       "Mehmet    1.093800  0.322151   0.177402"
      ]
     },
     "execution_count": 72,
     "metadata": {},
     "output_type": "execute_result"
    }
   ],
   "source": [
    "new_df"
   ]
  },
  {
   "cell_type": "code",
   "execution_count": 76,
   "id": "4dca37fa-5067-48d5-a890-836965f342c5",
   "metadata": {},
   "outputs": [],
   "source": [
    "booleanFrame = new_df > 0"
   ]
  },
  {
   "cell_type": "code",
   "execution_count": 77,
   "id": "ede9cdbf-5d45-44f1-9178-731dc1a9bb84",
   "metadata": {},
   "outputs": [
    {
     "data": {
      "text/html": [
       "<div>\n",
       "<style scoped>\n",
       "    .dataframe tbody tr th:only-of-type {\n",
       "        vertical-align: middle;\n",
       "    }\n",
       "\n",
       "    .dataframe tbody tr th {\n",
       "        vertical-align: top;\n",
       "    }\n",
       "\n",
       "    .dataframe thead th {\n",
       "        text-align: right;\n",
       "    }\n",
       "</style>\n",
       "<table border=\"1\" class=\"dataframe\">\n",
       "  <thead>\n",
       "    <tr style=\"text-align: right;\">\n",
       "      <th></th>\n",
       "      <th>Salary</th>\n",
       "      <th>Age</th>\n",
       "      <th>Seniority</th>\n",
       "    </tr>\n",
       "  </thead>\n",
       "  <tbody>\n",
       "    <tr>\n",
       "      <th>Busra</th>\n",
       "      <td>NaN</td>\n",
       "      <td>NaN</td>\n",
       "      <td>NaN</td>\n",
       "    </tr>\n",
       "    <tr>\n",
       "      <th>Zeynep</th>\n",
       "      <td>NaN</td>\n",
       "      <td>NaN</td>\n",
       "      <td>0.215068</td>\n",
       "    </tr>\n",
       "    <tr>\n",
       "      <th>Atlas</th>\n",
       "      <td>100.0000</td>\n",
       "      <td>1.396056</td>\n",
       "      <td>0.045139</td>\n",
       "    </tr>\n",
       "    <tr>\n",
       "      <th>Mehmet</th>\n",
       "      <td>1.0938</td>\n",
       "      <td>0.322151</td>\n",
       "      <td>0.177402</td>\n",
       "    </tr>\n",
       "  </tbody>\n",
       "</table>\n",
       "</div>"
      ],
      "text/plain": [
       "          Salary       Age  Seniority\n",
       "Busra        NaN       NaN        NaN\n",
       "Zeynep       NaN       NaN   0.215068\n",
       "Atlas   100.0000  1.396056   0.045139\n",
       "Mehmet    1.0938  0.322151   0.177402"
      ]
     },
     "execution_count": 77,
     "metadata": {},
     "output_type": "execute_result"
    }
   ],
   "source": [
    "new_df[booleanFrame]"
   ]
  },
  {
   "cell_type": "code",
   "execution_count": 78,
   "id": "b493f710-f057-484e-8366-7c0547d57c6a",
   "metadata": {},
   "outputs": [
    {
     "data": {
      "text/html": [
       "<div>\n",
       "<style scoped>\n",
       "    .dataframe tbody tr th:only-of-type {\n",
       "        vertical-align: middle;\n",
       "    }\n",
       "\n",
       "    .dataframe tbody tr th {\n",
       "        vertical-align: top;\n",
       "    }\n",
       "\n",
       "    .dataframe thead th {\n",
       "        text-align: right;\n",
       "    }\n",
       "</style>\n",
       "<table border=\"1\" class=\"dataframe\">\n",
       "  <thead>\n",
       "    <tr style=\"text-align: right;\">\n",
       "      <th></th>\n",
       "      <th>Salary</th>\n",
       "      <th>Age</th>\n",
       "      <th>Seniority</th>\n",
       "    </tr>\n",
       "  </thead>\n",
       "  <tbody>\n",
       "    <tr>\n",
       "      <th>Busra</th>\n",
       "      <td>NaN</td>\n",
       "      <td>NaN</td>\n",
       "      <td>NaN</td>\n",
       "    </tr>\n",
       "    <tr>\n",
       "      <th>Zeynep</th>\n",
       "      <td>NaN</td>\n",
       "      <td>NaN</td>\n",
       "      <td>0.215068</td>\n",
       "    </tr>\n",
       "    <tr>\n",
       "      <th>Atlas</th>\n",
       "      <td>100.0000</td>\n",
       "      <td>1.396056</td>\n",
       "      <td>0.045139</td>\n",
       "    </tr>\n",
       "    <tr>\n",
       "      <th>Mehmet</th>\n",
       "      <td>1.0938</td>\n",
       "      <td>0.322151</td>\n",
       "      <td>0.177402</td>\n",
       "    </tr>\n",
       "  </tbody>\n",
       "</table>\n",
       "</div>"
      ],
      "text/plain": [
       "          Salary       Age  Seniority\n",
       "Busra        NaN       NaN        NaN\n",
       "Zeynep       NaN       NaN   0.215068\n",
       "Atlas   100.0000  1.396056   0.045139\n",
       "Mehmet    1.0938  0.322151   0.177402"
      ]
     },
     "execution_count": 78,
     "metadata": {},
     "output_type": "execute_result"
    }
   ],
   "source": [
    "new_df[new_df>0]"
   ]
  },
  {
   "cell_type": "code",
   "execution_count": 79,
   "id": "a4c96158-3662-4a8f-a9a9-6cbf787dd256",
   "metadata": {},
   "outputs": [
    {
     "data": {
      "text/html": [
       "<div>\n",
       "<style scoped>\n",
       "    .dataframe tbody tr th:only-of-type {\n",
       "        vertical-align: middle;\n",
       "    }\n",
       "\n",
       "    .dataframe tbody tr th {\n",
       "        vertical-align: top;\n",
       "    }\n",
       "\n",
       "    .dataframe thead th {\n",
       "        text-align: right;\n",
       "    }\n",
       "</style>\n",
       "<table border=\"1\" class=\"dataframe\">\n",
       "  <thead>\n",
       "    <tr style=\"text-align: right;\">\n",
       "      <th></th>\n",
       "      <th>Salary</th>\n",
       "      <th>Age</th>\n",
       "      <th>Seniority</th>\n",
       "    </tr>\n",
       "  </thead>\n",
       "  <tbody>\n",
       "    <tr>\n",
       "      <th>Atlas</th>\n",
       "      <td>100.0000</td>\n",
       "      <td>1.396056</td>\n",
       "      <td>0.045139</td>\n",
       "    </tr>\n",
       "    <tr>\n",
       "      <th>Mehmet</th>\n",
       "      <td>1.0938</td>\n",
       "      <td>0.322151</td>\n",
       "      <td>0.177402</td>\n",
       "    </tr>\n",
       "  </tbody>\n",
       "</table>\n",
       "</div>"
      ],
      "text/plain": [
       "          Salary       Age  Seniority\n",
       "Atlas   100.0000  1.396056   0.045139\n",
       "Mehmet    1.0938  0.322151   0.177402"
      ]
     },
     "execution_count": 79,
     "metadata": {},
     "output_type": "execute_result"
    }
   ],
   "source": [
    "new_df[new_df[\"Salary\"]>1]"
   ]
  },
  {
   "cell_type": "code",
   "execution_count": 80,
   "id": "26fecdc5-270c-4d82-9998-d654221deaff",
   "metadata": {},
   "outputs": [
    {
     "data": {
      "text/html": [
       "<div>\n",
       "<style scoped>\n",
       "    .dataframe tbody tr th:only-of-type {\n",
       "        vertical-align: middle;\n",
       "    }\n",
       "\n",
       "    .dataframe tbody tr th {\n",
       "        vertical-align: top;\n",
       "    }\n",
       "\n",
       "    .dataframe thead th {\n",
       "        text-align: right;\n",
       "    }\n",
       "</style>\n",
       "<table border=\"1\" class=\"dataframe\">\n",
       "  <thead>\n",
       "    <tr style=\"text-align: right;\">\n",
       "      <th></th>\n",
       "      <th>Salary</th>\n",
       "      <th>Age</th>\n",
       "      <th>Seniority</th>\n",
       "    </tr>\n",
       "  </thead>\n",
       "  <tbody>\n",
       "    <tr>\n",
       "      <th>Busra</th>\n",
       "      <td>-1.817068</td>\n",
       "      <td>-0.634522</td>\n",
       "      <td>-0.893120</td>\n",
       "    </tr>\n",
       "    <tr>\n",
       "      <th>Zeynep</th>\n",
       "      <td>-0.954838</td>\n",
       "      <td>-1.470936</td>\n",
       "      <td>0.215068</td>\n",
       "    </tr>\n",
       "    <tr>\n",
       "      <th>Atlas</th>\n",
       "      <td>100.000000</td>\n",
       "      <td>1.396056</td>\n",
       "      <td>0.045139</td>\n",
       "    </tr>\n",
       "    <tr>\n",
       "      <th>Mehmet</th>\n",
       "      <td>1.093800</td>\n",
       "      <td>0.322151</td>\n",
       "      <td>0.177402</td>\n",
       "    </tr>\n",
       "  </tbody>\n",
       "</table>\n",
       "</div>"
      ],
      "text/plain": [
       "            Salary       Age  Seniority\n",
       "Busra    -1.817068 -0.634522  -0.893120\n",
       "Zeynep   -0.954838 -1.470936   0.215068\n",
       "Atlas   100.000000  1.396056   0.045139\n",
       "Mehmet    1.093800  0.322151   0.177402"
      ]
     },
     "execution_count": 80,
     "metadata": {},
     "output_type": "execute_result"
    }
   ],
   "source": [
    "new_df"
   ]
  },
  {
   "cell_type": "code",
   "execution_count": 81,
   "id": "88fa3a2a-150c-40ae-b8a1-988c687773ce",
   "metadata": {},
   "outputs": [
    {
     "data": {
      "text/html": [
       "<div>\n",
       "<style scoped>\n",
       "    .dataframe tbody tr th:only-of-type {\n",
       "        vertical-align: middle;\n",
       "    }\n",
       "\n",
       "    .dataframe tbody tr th {\n",
       "        vertical-align: top;\n",
       "    }\n",
       "\n",
       "    .dataframe thead th {\n",
       "        text-align: right;\n",
       "    }\n",
       "</style>\n",
       "<table border=\"1\" class=\"dataframe\">\n",
       "  <thead>\n",
       "    <tr style=\"text-align: right;\">\n",
       "      <th></th>\n",
       "      <th>index</th>\n",
       "      <th>Salary</th>\n",
       "      <th>Age</th>\n",
       "      <th>Seniority</th>\n",
       "    </tr>\n",
       "  </thead>\n",
       "  <tbody>\n",
       "    <tr>\n",
       "      <th>0</th>\n",
       "      <td>Busra</td>\n",
       "      <td>-1.817068</td>\n",
       "      <td>-0.634522</td>\n",
       "      <td>-0.893120</td>\n",
       "    </tr>\n",
       "    <tr>\n",
       "      <th>1</th>\n",
       "      <td>Zeynep</td>\n",
       "      <td>-0.954838</td>\n",
       "      <td>-1.470936</td>\n",
       "      <td>0.215068</td>\n",
       "    </tr>\n",
       "    <tr>\n",
       "      <th>2</th>\n",
       "      <td>Atlas</td>\n",
       "      <td>100.000000</td>\n",
       "      <td>1.396056</td>\n",
       "      <td>0.045139</td>\n",
       "    </tr>\n",
       "    <tr>\n",
       "      <th>3</th>\n",
       "      <td>Mehmet</td>\n",
       "      <td>1.093800</td>\n",
       "      <td>0.322151</td>\n",
       "      <td>0.177402</td>\n",
       "    </tr>\n",
       "  </tbody>\n",
       "</table>\n",
       "</div>"
      ],
      "text/plain": [
       "    index      Salary       Age  Seniority\n",
       "0   Busra   -1.817068 -0.634522  -0.893120\n",
       "1  Zeynep   -0.954838 -1.470936   0.215068\n",
       "2   Atlas  100.000000  1.396056   0.045139\n",
       "3  Mehmet    1.093800  0.322151   0.177402"
      ]
     },
     "execution_count": 81,
     "metadata": {},
     "output_type": "execute_result"
    }
   ],
   "source": [
    "new_df.reset_index()"
   ]
  },
  {
   "cell_type": "code",
   "execution_count": 83,
   "id": "9cb0e07a-3d2d-44ce-9282-ced363d25ee3",
   "metadata": {},
   "outputs": [],
   "source": [
    "new_indices = [\"Bus\",\"Zey\",\"Atl\",\"Meh\"]"
   ]
  },
  {
   "cell_type": "code",
   "execution_count": 84,
   "id": "4c8213ee-5802-4c04-bbcd-a37fc6135ad8",
   "metadata": {},
   "outputs": [],
   "source": [
    "new_df[\"NewIndex\"] = new_indices"
   ]
  },
  {
   "cell_type": "code",
   "execution_count": 86,
   "id": "7fb213f1-453f-4421-8632-e1125fd9b9b8",
   "metadata": {},
   "outputs": [
    {
     "data": {
      "text/html": [
       "<div>\n",
       "<style scoped>\n",
       "    .dataframe tbody tr th:only-of-type {\n",
       "        vertical-align: middle;\n",
       "    }\n",
       "\n",
       "    .dataframe tbody tr th {\n",
       "        vertical-align: top;\n",
       "    }\n",
       "\n",
       "    .dataframe thead th {\n",
       "        text-align: right;\n",
       "    }\n",
       "</style>\n",
       "<table border=\"1\" class=\"dataframe\">\n",
       "  <thead>\n",
       "    <tr style=\"text-align: right;\">\n",
       "      <th></th>\n",
       "      <th>Salary</th>\n",
       "      <th>Age</th>\n",
       "      <th>Seniority</th>\n",
       "      <th>NewIndex</th>\n",
       "    </tr>\n",
       "  </thead>\n",
       "  <tbody>\n",
       "    <tr>\n",
       "      <th>Busra</th>\n",
       "      <td>-1.817068</td>\n",
       "      <td>-0.634522</td>\n",
       "      <td>-0.893120</td>\n",
       "      <td>Bus</td>\n",
       "    </tr>\n",
       "    <tr>\n",
       "      <th>Zeynep</th>\n",
       "      <td>-0.954838</td>\n",
       "      <td>-1.470936</td>\n",
       "      <td>0.215068</td>\n",
       "      <td>Zey</td>\n",
       "    </tr>\n",
       "    <tr>\n",
       "      <th>Atlas</th>\n",
       "      <td>100.000000</td>\n",
       "      <td>1.396056</td>\n",
       "      <td>0.045139</td>\n",
       "      <td>Atl</td>\n",
       "    </tr>\n",
       "    <tr>\n",
       "      <th>Mehmet</th>\n",
       "      <td>1.093800</td>\n",
       "      <td>0.322151</td>\n",
       "      <td>0.177402</td>\n",
       "      <td>Meh</td>\n",
       "    </tr>\n",
       "  </tbody>\n",
       "</table>\n",
       "</div>"
      ],
      "text/plain": [
       "            Salary       Age  Seniority NewIndex\n",
       "Busra    -1.817068 -0.634522  -0.893120      Bus\n",
       "Zeynep   -0.954838 -1.470936   0.215068      Zey\n",
       "Atlas   100.000000  1.396056   0.045139      Atl\n",
       "Mehmet    1.093800  0.322151   0.177402      Meh"
      ]
     },
     "execution_count": 86,
     "metadata": {},
     "output_type": "execute_result"
    }
   ],
   "source": [
    "new_df"
   ]
  },
  {
   "cell_type": "code",
   "execution_count": 87,
   "id": "c8ad4216-c9e1-4205-8bcf-77ce1893fde0",
   "metadata": {},
   "outputs": [],
   "source": [
    "new_df.set_index(\"NewIndex\",inplace=True)"
   ]
  },
  {
   "cell_type": "code",
   "execution_count": 88,
   "id": "a753172a-ee35-48d8-b08a-ff7a1892127b",
   "metadata": {},
   "outputs": [
    {
     "data": {
      "text/html": [
       "<div>\n",
       "<style scoped>\n",
       "    .dataframe tbody tr th:only-of-type {\n",
       "        vertical-align: middle;\n",
       "    }\n",
       "\n",
       "    .dataframe tbody tr th {\n",
       "        vertical-align: top;\n",
       "    }\n",
       "\n",
       "    .dataframe thead th {\n",
       "        text-align: right;\n",
       "    }\n",
       "</style>\n",
       "<table border=\"1\" class=\"dataframe\">\n",
       "  <thead>\n",
       "    <tr style=\"text-align: right;\">\n",
       "      <th></th>\n",
       "      <th>Salary</th>\n",
       "      <th>Age</th>\n",
       "      <th>Seniority</th>\n",
       "    </tr>\n",
       "    <tr>\n",
       "      <th>NewIndex</th>\n",
       "      <th></th>\n",
       "      <th></th>\n",
       "      <th></th>\n",
       "    </tr>\n",
       "  </thead>\n",
       "  <tbody>\n",
       "    <tr>\n",
       "      <th>Bus</th>\n",
       "      <td>-1.817068</td>\n",
       "      <td>-0.634522</td>\n",
       "      <td>-0.893120</td>\n",
       "    </tr>\n",
       "    <tr>\n",
       "      <th>Zey</th>\n",
       "      <td>-0.954838</td>\n",
       "      <td>-1.470936</td>\n",
       "      <td>0.215068</td>\n",
       "    </tr>\n",
       "    <tr>\n",
       "      <th>Atl</th>\n",
       "      <td>100.000000</td>\n",
       "      <td>1.396056</td>\n",
       "      <td>0.045139</td>\n",
       "    </tr>\n",
       "    <tr>\n",
       "      <th>Meh</th>\n",
       "      <td>1.093800</td>\n",
       "      <td>0.322151</td>\n",
       "      <td>0.177402</td>\n",
       "    </tr>\n",
       "  </tbody>\n",
       "</table>\n",
       "</div>"
      ],
      "text/plain": [
       "              Salary       Age  Seniority\n",
       "NewIndex                                 \n",
       "Bus        -1.817068 -0.634522  -0.893120\n",
       "Zey        -0.954838 -1.470936   0.215068\n",
       "Atl       100.000000  1.396056   0.045139\n",
       "Meh         1.093800  0.322151   0.177402"
      ]
     },
     "execution_count": 88,
     "metadata": {},
     "output_type": "execute_result"
    }
   ],
   "source": [
    "new_df"
   ]
  },
  {
   "cell_type": "code",
   "execution_count": 89,
   "id": "d2af02b5-1e66-4770-a88f-0a0bd21ee005",
   "metadata": {},
   "outputs": [
    {
     "data": {
      "text/plain": [
       "Salary       100.000000\n",
       "Age            1.396056\n",
       "Seniority      0.045139\n",
       "Name: Atl, dtype: float64"
      ]
     },
     "execution_count": 89,
     "metadata": {},
     "output_type": "execute_result"
    }
   ],
   "source": [
    "new_df.loc[\"Atl\"]"
   ]
  },
  {
   "cell_type": "code",
   "execution_count": 90,
   "id": "38d02f55-6378-44c1-bd4d-aa085a6cc78d",
   "metadata": {},
   "outputs": [],
   "source": [
    "#Multi Index"
   ]
  },
  {
   "cell_type": "code",
   "execution_count": 91,
   "id": "70f6b7c5-40a7-446a-83c1-c26e020e3ec9",
   "metadata": {},
   "outputs": [],
   "source": [
    "first_index = [\"Simpson\",\"Simpson\",\"Simpson\",\"South Park\",\"South Park\",\"South Park\"]"
   ]
  },
  {
   "cell_type": "code",
   "execution_count": 92,
   "id": "32b8109a-9efb-467e-9a9f-7d9a2b7b39bb",
   "metadata": {},
   "outputs": [],
   "source": [
    "inner_index = [\"Homer\",\"Bart\",\"Marge\",\"Cartman\",\"Kenny\",\"Kyle\"]"
   ]
  },
  {
   "cell_type": "code",
   "execution_count": 93,
   "id": "d7c84543-6b52-401f-a7ca-1a1471c4f814",
   "metadata": {},
   "outputs": [],
   "source": [
    "zipped_index = list(zip(first_index,inner_index))"
   ]
  },
  {
   "cell_type": "code",
   "execution_count": 94,
   "id": "8867f249-11fa-45a0-a9cb-1936f2a3fab9",
   "metadata": {},
   "outputs": [
    {
     "data": {
      "text/plain": [
       "[('Simpson', 'Homer'),\n",
       " ('Simpson', 'Bart'),\n",
       " ('Simpson', 'Marge'),\n",
       " ('South Park', 'Cartman'),\n",
       " ('South Park', 'Kenny'),\n",
       " ('South Park', 'Kyle')]"
      ]
     },
     "execution_count": 94,
     "metadata": {},
     "output_type": "execute_result"
    }
   ],
   "source": [
    "zipped_index"
   ]
  },
  {
   "cell_type": "code",
   "execution_count": 95,
   "id": "9e2a42b7-7ebb-456c-b614-499838d22921",
   "metadata": {},
   "outputs": [],
   "source": [
    "zipped_index = pd.MultiIndex.from_tuples(zipped_index)"
   ]
  },
  {
   "cell_type": "code",
   "execution_count": 96,
   "id": "ddd80c04-3456-44b2-ab10-8fb1f060e126",
   "metadata": {},
   "outputs": [
    {
     "data": {
      "text/plain": [
       "MultiIndex([(   'Simpson',   'Homer'),\n",
       "            (   'Simpson',    'Bart'),\n",
       "            (   'Simpson',   'Marge'),\n",
       "            ('South Park', 'Cartman'),\n",
       "            ('South Park',   'Kenny'),\n",
       "            ('South Park',    'Kyle')],\n",
       "           )"
      ]
     },
     "execution_count": 96,
     "metadata": {},
     "output_type": "execute_result"
    }
   ],
   "source": [
    "zipped_index"
   ]
  },
  {
   "cell_type": "code",
   "execution_count": 108,
   "id": "4e93ec8b-985a-42d8-8df2-37c2455c2dc2",
   "metadata": {},
   "outputs": [
    {
     "data": {
      "text/plain": [
       "array([[1., 1.],\n",
       "       [1., 1.],\n",
       "       [1., 1.],\n",
       "       [1., 1.],\n",
       "       [1., 1.],\n",
       "       [1., 1.]])"
      ]
     },
     "execution_count": 108,
     "metadata": {},
     "output_type": "execute_result"
    }
   ],
   "source": [
    "sample_values = np.ones((6,2))\n",
    "sample_values"
   ]
  },
  {
   "cell_type": "code",
   "execution_count": 98,
   "id": "ab669740-a557-4978-a961-e27a128031ef",
   "metadata": {},
   "outputs": [],
   "source": [
    "big_df = pd.DataFrame(sample_values,index = zipped_index,columns = [\"Age\",\"Salary\"])"
   ]
  },
  {
   "cell_type": "code",
   "execution_count": 99,
   "id": "1e4f0042-1417-4a90-8fcc-397c8072c429",
   "metadata": {},
   "outputs": [
    {
     "data": {
      "text/html": [
       "<div>\n",
       "<style scoped>\n",
       "    .dataframe tbody tr th:only-of-type {\n",
       "        vertical-align: middle;\n",
       "    }\n",
       "\n",
       "    .dataframe tbody tr th {\n",
       "        vertical-align: top;\n",
       "    }\n",
       "\n",
       "    .dataframe thead th {\n",
       "        text-align: right;\n",
       "    }\n",
       "</style>\n",
       "<table border=\"1\" class=\"dataframe\">\n",
       "  <thead>\n",
       "    <tr style=\"text-align: right;\">\n",
       "      <th></th>\n",
       "      <th></th>\n",
       "      <th>Age</th>\n",
       "      <th>Salary</th>\n",
       "    </tr>\n",
       "  </thead>\n",
       "  <tbody>\n",
       "    <tr>\n",
       "      <th rowspan=\"3\" valign=\"top\">Simpson</th>\n",
       "      <th>Homer</th>\n",
       "      <td>1.0</td>\n",
       "      <td>1.0</td>\n",
       "    </tr>\n",
       "    <tr>\n",
       "      <th>Bart</th>\n",
       "      <td>1.0</td>\n",
       "      <td>1.0</td>\n",
       "    </tr>\n",
       "    <tr>\n",
       "      <th>Marge</th>\n",
       "      <td>1.0</td>\n",
       "      <td>1.0</td>\n",
       "    </tr>\n",
       "    <tr>\n",
       "      <th rowspan=\"3\" valign=\"top\">South Park</th>\n",
       "      <th>Cartman</th>\n",
       "      <td>1.0</td>\n",
       "      <td>1.0</td>\n",
       "    </tr>\n",
       "    <tr>\n",
       "      <th>Kenny</th>\n",
       "      <td>1.0</td>\n",
       "      <td>1.0</td>\n",
       "    </tr>\n",
       "    <tr>\n",
       "      <th>Kyle</th>\n",
       "      <td>1.0</td>\n",
       "      <td>1.0</td>\n",
       "    </tr>\n",
       "  </tbody>\n",
       "</table>\n",
       "</div>"
      ],
      "text/plain": [
       "                    Age  Salary\n",
       "Simpson    Homer    1.0     1.0\n",
       "           Bart     1.0     1.0\n",
       "           Marge    1.0     1.0\n",
       "South Park Cartman  1.0     1.0\n",
       "           Kenny    1.0     1.0\n",
       "           Kyle     1.0     1.0"
      ]
     },
     "execution_count": 99,
     "metadata": {},
     "output_type": "execute_result"
    }
   ],
   "source": [
    "big_df"
   ]
  },
  {
   "cell_type": "code",
   "execution_count": 100,
   "id": "794b60e4-ec18-47c6-819c-3219a85aea87",
   "metadata": {},
   "outputs": [
    {
     "data": {
      "text/plain": [
       "Simpson     Homer      1.0\n",
       "            Bart       1.0\n",
       "            Marge      1.0\n",
       "South Park  Cartman    1.0\n",
       "            Kenny      1.0\n",
       "            Kyle       1.0\n",
       "Name: Age, dtype: float64"
      ]
     },
     "execution_count": 100,
     "metadata": {},
     "output_type": "execute_result"
    }
   ],
   "source": [
    "big_df[\"Age\"]"
   ]
  },
  {
   "cell_type": "code",
   "execution_count": 105,
   "id": "796b7cdb-030b-444b-a656-b2b34e3bbdf3",
   "metadata": {},
   "outputs": [
    {
     "data": {
      "text/html": [
       "<div>\n",
       "<style scoped>\n",
       "    .dataframe tbody tr th:only-of-type {\n",
       "        vertical-align: middle;\n",
       "    }\n",
       "\n",
       "    .dataframe tbody tr th {\n",
       "        vertical-align: top;\n",
       "    }\n",
       "\n",
       "    .dataframe thead th {\n",
       "        text-align: right;\n",
       "    }\n",
       "</style>\n",
       "<table border=\"1\" class=\"dataframe\">\n",
       "  <thead>\n",
       "    <tr style=\"text-align: right;\">\n",
       "      <th></th>\n",
       "      <th>Age</th>\n",
       "      <th>Salary</th>\n",
       "    </tr>\n",
       "  </thead>\n",
       "  <tbody>\n",
       "    <tr>\n",
       "      <th>Homer</th>\n",
       "      <td>1.0</td>\n",
       "      <td>1.0</td>\n",
       "    </tr>\n",
       "    <tr>\n",
       "      <th>Bart</th>\n",
       "      <td>1.0</td>\n",
       "      <td>1.0</td>\n",
       "    </tr>\n",
       "    <tr>\n",
       "      <th>Marge</th>\n",
       "      <td>1.0</td>\n",
       "      <td>1.0</td>\n",
       "    </tr>\n",
       "  </tbody>\n",
       "</table>\n",
       "</div>"
      ],
      "text/plain": [
       "       Age  Salary\n",
       "Homer  1.0     1.0\n",
       "Bart   1.0     1.0\n",
       "Marge  1.0     1.0"
      ]
     },
     "execution_count": 105,
     "metadata": {},
     "output_type": "execute_result"
    }
   ],
   "source": [
    "big_df.loc[\"Simpson\"]"
   ]
  },
  {
   "cell_type": "code",
   "execution_count": 107,
   "id": "6cfd3334-e205-4288-8a4d-1fe13719354c",
   "metadata": {},
   "outputs": [
    {
     "data": {
      "text/plain": [
       "Age       1.0\n",
       "Salary    1.0\n",
       "Name: Bart, dtype: float64"
      ]
     },
     "execution_count": 107,
     "metadata": {},
     "output_type": "execute_result"
    }
   ],
   "source": [
    "big_df.loc[\"Simpson\"].loc[\"Bart\"]"
   ]
  },
  {
   "cell_type": "code",
   "execution_count": null,
   "id": "d61e4c9e-0990-4293-a302-d560ff6364bd",
   "metadata": {},
   "outputs": [],
   "source": []
  }
 ],
 "metadata": {
  "kernelspec": {
   "display_name": "Python [conda env:base] *",
   "language": "python",
   "name": "conda-base-py"
  },
  "language_info": {
   "codemirror_mode": {
    "name": "ipython",
    "version": 3
   },
   "file_extension": ".py",
   "mimetype": "text/x-python",
   "name": "python",
   "nbconvert_exporter": "python",
   "pygments_lexer": "ipython3",
   "version": "3.13.5"
  }
 },
 "nbformat": 4,
 "nbformat_minor": 5
}
