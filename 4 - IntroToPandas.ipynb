{
 "cells": [
  {
   "cell_type": "code",
   "execution_count": 1,
   "id": "7fcd98ac-cbd7-4a40-a2b4-1d5c689de30c",
   "metadata": {},
   "outputs": [],
   "source": [
    "import numpy as np"
   ]
  },
  {
   "cell_type": "code",
   "execution_count": 2,
   "id": "25e994bd-39d9-4d68-a634-e157ce6a4c3f",
   "metadata": {},
   "outputs": [],
   "source": [
    "import pandas as pd"
   ]
  },
  {
   "cell_type": "code",
   "execution_count": 14,
   "id": "673bb676-c1b0-4f8c-9e6d-6d110dd63b19",
   "metadata": {},
   "outputs": [],
   "source": [
    "grades = {\"Sennur\":50,\"Busra\":60,\"Musa\":30}"
   ]
  },
  {
   "cell_type": "code",
   "execution_count": 15,
   "id": "2f66de4f-2458-4e66-a505-4999a1a3a7e6",
   "metadata": {},
   "outputs": [
    {
     "data": {
      "text/plain": [
       "Sennur    50\n",
       "Busra     60\n",
       "Musa      30\n",
       "dtype: int64"
      ]
     },
     "execution_count": 15,
     "metadata": {},
     "output_type": "execute_result"
    }
   ],
   "source": [
    "pd.Series(grades)"
   ]
  },
  {
   "cell_type": "code",
   "execution_count": 16,
   "id": "4f474704-e863-4117-9066-2566aeb68faf",
   "metadata": {},
   "outputs": [],
   "source": [
    "names = [\"Sennur\",\"Busra\",\"Musa\"]"
   ]
  },
  {
   "cell_type": "code",
   "execution_count": 17,
   "id": "9f14d036-b909-4f69-ab5a-4aa1d1cee0f8",
   "metadata": {},
   "outputs": [],
   "source": [
    "grades = [50,50,70]"
   ]
  },
  {
   "cell_type": "code",
   "execution_count": 18,
   "id": "6b333ce5-47dd-4add-92b8-298485565ae3",
   "metadata": {},
   "outputs": [
    {
     "data": {
      "text/plain": [
       "0    Sennur\n",
       "1     Busra\n",
       "2      Musa\n",
       "dtype: object"
      ]
     },
     "execution_count": 18,
     "metadata": {},
     "output_type": "execute_result"
    }
   ],
   "source": [
    "pd.Series(names)"
   ]
  },
  {
   "cell_type": "code",
   "execution_count": 19,
   "id": "236fb592-8b7a-42e3-95f5-7bd585942882",
   "metadata": {},
   "outputs": [
    {
     "data": {
      "text/plain": [
       "0    50\n",
       "1    50\n",
       "2    70\n",
       "dtype: int64"
      ]
     },
     "execution_count": 19,
     "metadata": {},
     "output_type": "execute_result"
    }
   ],
   "source": [
    "pd.Series(grades)"
   ]
  },
  {
   "cell_type": "code",
   "execution_count": 21,
   "id": "4efe996d-e6db-4b93-8aab-8214232587bc",
   "metadata": {},
   "outputs": [
    {
     "data": {
      "text/plain": [
       "Sennur    50\n",
       "Busra     50\n",
       "Musa      70\n",
       "dtype: int64"
      ]
     },
     "execution_count": 21,
     "metadata": {},
     "output_type": "execute_result"
    }
   ],
   "source": [
    "pd.Series(grades,names)"
   ]
  },
  {
   "cell_type": "code",
   "execution_count": 23,
   "id": "dad6da7d-ade7-4115-9681-271e15f4a87f",
   "metadata": {},
   "outputs": [
    {
     "data": {
      "text/plain": [
       "Sennur    50\n",
       "Busra     50\n",
       "Musa      70\n",
       "dtype: int64"
      ]
     },
     "execution_count": 23,
     "metadata": {},
     "output_type": "execute_result"
    }
   ],
   "source": [
    "pd.Series(data=grades,index=names)"
   ]
  },
  {
   "cell_type": "code",
   "execution_count": 24,
   "id": "ea265ac3-0177-4753-8cae-958a0102ee34",
   "metadata": {},
   "outputs": [],
   "source": [
    "# with numpy"
   ]
  },
  {
   "cell_type": "code",
   "execution_count": 25,
   "id": "392d5faa-ade4-49b9-a1af-27b9f1a0762a",
   "metadata": {},
   "outputs": [],
   "source": [
    "numpy_array = np.array([50,40,30,20])"
   ]
  },
  {
   "cell_type": "code",
   "execution_count": 26,
   "id": "bd2e8820-161e-46df-b284-893368948f53",
   "metadata": {},
   "outputs": [
    {
     "data": {
      "text/plain": [
       "0    50\n",
       "1    40\n",
       "2    30\n",
       "3    20\n",
       "dtype: int64"
      ]
     },
     "execution_count": 26,
     "metadata": {},
     "output_type": "execute_result"
    }
   ],
   "source": [
    "pd.Series(numpy_array)"
   ]
  },
  {
   "cell_type": "code",
   "execution_count": 27,
   "id": "57747247-a8c0-4159-9a66-2b3bd8f8e3b8",
   "metadata": {},
   "outputs": [],
   "source": [
    "# arithmetic"
   ]
  },
  {
   "cell_type": "code",
   "execution_count": 28,
   "id": "710fdbec-3bce-4cbb-a2ac-01fef4549f42",
   "metadata": {},
   "outputs": [],
   "source": [
    "contest_result = pd.Series(data=[10,5,100], index=[\"Atil\",\"James\",\"Lars\"])"
   ]
  },
  {
   "cell_type": "code",
   "execution_count": 30,
   "id": "86665453-aa9d-4b9d-868b-9eae9ab86c09",
   "metadata": {},
   "outputs": [],
   "source": [
    "contest_result2 = pd.Series(data=[20,50,10], index=[\"Atil\",\"James\",\"Lars\"])"
   ]
  },
  {
   "cell_type": "code",
   "execution_count": 31,
   "id": "a418d409-976e-4c1d-b73e-b395bd038ebd",
   "metadata": {},
   "outputs": [
    {
     "data": {
      "text/plain": [
       "Atil      10\n",
       "James      5\n",
       "Lars     100\n",
       "dtype: int64"
      ]
     },
     "execution_count": 31,
     "metadata": {},
     "output_type": "execute_result"
    }
   ],
   "source": [
    "contest_result"
   ]
  },
  {
   "cell_type": "code",
   "execution_count": 32,
   "id": "4ed8a24d-0604-4448-9a01-75e1e6c8d557",
   "metadata": {},
   "outputs": [
    {
     "data": {
      "text/plain": [
       "Atil     20\n",
       "James    50\n",
       "Lars     10\n",
       "dtype: int64"
      ]
     },
     "execution_count": 32,
     "metadata": {},
     "output_type": "execute_result"
    }
   ],
   "source": [
    "contest_result2"
   ]
  },
  {
   "cell_type": "code",
   "execution_count": 33,
   "id": "711fe024-4b86-4502-82b8-1b2e78d5dd2e",
   "metadata": {},
   "outputs": [
    {
     "data": {
      "text/plain": [
       "np.int64(10)"
      ]
     },
     "execution_count": 33,
     "metadata": {},
     "output_type": "execute_result"
    }
   ],
   "source": [
    "contest_result[\"Atil\"]"
   ]
  },
  {
   "cell_type": "code",
   "execution_count": 36,
   "id": "4567bd72-9073-4696-ad5e-60b18a429149",
   "metadata": {},
   "outputs": [
    {
     "data": {
      "text/plain": [
       "np.int64(50)"
      ]
     },
     "execution_count": 36,
     "metadata": {},
     "output_type": "execute_result"
    }
   ],
   "source": [
    "contest_result2[\"James\"]"
   ]
  },
  {
   "cell_type": "code",
   "execution_count": 39,
   "id": "f2b84658-58dc-4ca8-9eef-383dfc1b5eb2",
   "metadata": {},
   "outputs": [],
   "source": [
    "final_result = contest_result + contest_result2"
   ]
  },
  {
   "cell_type": "code",
   "execution_count": 40,
   "id": "9866a75a-f73e-449b-914f-00dc45a55a5f",
   "metadata": {},
   "outputs": [
    {
     "data": {
      "text/plain": [
       "Atil      30\n",
       "James     55\n",
       "Lars     110\n",
       "dtype: int64"
      ]
     },
     "execution_count": 40,
     "metadata": {},
     "output_type": "execute_result"
    }
   ],
   "source": [
    "final_result"
   ]
  },
  {
   "cell_type": "code",
   "execution_count": 41,
   "id": "54ccb743-7037-4aca-a658-6d5eeeb05b2e",
   "metadata": {},
   "outputs": [
    {
     "data": {
      "text/plain": [
       "Atil    -10\n",
       "James   -45\n",
       "Lars     90\n",
       "dtype: int64"
      ]
     },
     "execution_count": 41,
     "metadata": {},
     "output_type": "execute_result"
    }
   ],
   "source": [
    "contest_result - contest_result2"
   ]
  },
  {
   "cell_type": "code",
   "execution_count": 42,
   "id": "98a0f8de-da3a-47ae-8a5e-571a9129a73c",
   "metadata": {},
   "outputs": [
    {
     "data": {
      "text/plain": [
       "Atil      0.5\n",
       "James     0.1\n",
       "Lars     10.0\n",
       "dtype: float64"
      ]
     },
     "execution_count": 42,
     "metadata": {},
     "output_type": "execute_result"
    }
   ],
   "source": [
    "contest_result / contest_result2"
   ]
  },
  {
   "cell_type": "code",
   "execution_count": 43,
   "id": "e34d80db-2dde-44cb-90f6-3d9e99022393",
   "metadata": {},
   "outputs": [
    {
     "data": {
      "text/plain": [
       "Atil      200\n",
       "James     250\n",
       "Lars     1000\n",
       "dtype: int64"
      ]
     },
     "execution_count": 43,
     "metadata": {},
     "output_type": "execute_result"
    }
   ],
   "source": [
    "contest_result * contest_result2"
   ]
  },
  {
   "cell_type": "code",
   "execution_count": 45,
   "id": "c7b340f5-5f37-43b1-94b1-5e66d4f5bd5a",
   "metadata": {},
   "outputs": [],
   "source": [
    "different_series= pd.Series(data=[20,30,40,50],index=[\"a\",\"b\",\"c\",\"d\"])"
   ]
  },
  {
   "cell_type": "code",
   "execution_count": 46,
   "id": "f6803f03-3db2-4621-ad74-79ae689ec6aa",
   "metadata": {},
   "outputs": [],
   "source": [
    "different_series2= pd.Series(data=[10,5,3,1],index=[\"a\",\"c\",\"f\",\"g\"])"
   ]
  },
  {
   "cell_type": "code",
   "execution_count": 47,
   "id": "4bed033d-87ad-4a63-96bc-83a9f91a5fc7",
   "metadata": {},
   "outputs": [
    {
     "data": {
      "text/plain": [
       "a    30.0\n",
       "b     NaN\n",
       "c    45.0\n",
       "d     NaN\n",
       "f     NaN\n",
       "g     NaN\n",
       "dtype: float64"
      ]
     },
     "execution_count": 47,
     "metadata": {},
     "output_type": "execute_result"
    }
   ],
   "source": [
    "different_series + different_series2"
   ]
  },
  {
   "cell_type": "code",
   "execution_count": null,
   "id": "959e8670-eddd-4e4a-8f37-ad5489a71162",
   "metadata": {},
   "outputs": [],
   "source": []
  }
 ],
 "metadata": {
  "kernelspec": {
   "display_name": "Python [conda env:base] *",
   "language": "python",
   "name": "conda-base-py"
  },
  "language_info": {
   "codemirror_mode": {
    "name": "ipython",
    "version": 3
   },
   "file_extension": ".py",
   "mimetype": "text/x-python",
   "name": "python",
   "nbconvert_exporter": "python",
   "pygments_lexer": "ipython3",
   "version": "3.13.5"
  }
 },
 "nbformat": 4,
 "nbformat_minor": 5
}
